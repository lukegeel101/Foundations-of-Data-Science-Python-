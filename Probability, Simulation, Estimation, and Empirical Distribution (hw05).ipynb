{
 "cells": [
  {
   "cell_type": "markdown",
   "id": "8703e1cb",
   "metadata": {},
   "source": [
    "# Homework 5: Probability, Simulation, Estimation, and Empirical Distribution"
   ]
  },
  {
   "cell_type": "markdown",
   "id": "69d856ad",
   "metadata": {},
   "source": [
    "Please complete this notebook by filling in the cells provided. Before you begin, execute the following cell to load the provided tests. Each time you start your server, you will need to execute this cell again to load the tests.\n",
    "\n",
    "Homework 5 is due **Tuesday, 10/18 at 8:00am**. Start early so that you can come to office hours if you're stuck. Check the website for the office hours schedule. Late assignments will be accepted until **Thursday, 10/20 at 8am but you will lose up-to 5 points** as a penalty for late submission. \n",
    "\n",
    "Directly sharing answers is not okay, but discussing problems with the course staff or with other students is encouraged. Refer to the policies page to learn more about how to learn cooperatively.\n",
    "\n",
    "For all problems that you must write explanations and sentences for, you **must** provide your answer in the designated space. Moreover, throughout this homework and all future ones, please be sure to not re-assign variables throughout the notebook! For example, if you use `max_temperature` in your answer to one question, do not reassign it later on.\n",
    "\n",
    "*The tests in this notebook may not provide feedback on whether your answers are correct, only that they are in the required correct format.*"
   ]
  },
  {
   "cell_type": "code",
   "execution_count": 1,
   "id": "88dc9b6c",
   "metadata": {},
   "outputs": [],
   "source": [
    "import numpy as np\n",
    "from datascience import *\n",
    "\n",
    "# These lines do some fancy plotting magic.\\n\",\n",
    "import matplotlib\n",
    "%matplotlib inline\n",
    "import matplotlib.pyplot as plots\n",
    "plots.style.use('fivethirtyeight')\n",
    "\n",
    "import warnings\n",
    "warnings.filterwarnings('ignore')\n",
    "\n",
    "import otter\n",
    "grader = otter.Notebook()"
   ]
  },
  {
   "cell_type": "markdown",
   "id": "07bf26d7",
   "metadata": {},
   "source": [
    "## 1. Probability\n"
   ]
  },
  {
   "cell_type": "markdown",
   "id": "2dca9239",
   "metadata": {},
   "source": [
    "We will be testing some probability concepts that were introduced in lecture. For all of the following problems, we will introduce a problem statement and give you a proposed answer. Next, for each of the following questions, you must assign the provided variable to one of three integers. You are more than welcome to create more cells across this notebook to use for arithmetic operations or short programs to help answer the questions, but be sure to assign the provided variable to 1, 2, or 3 in the end. \n",
    "\n",
    "1. Assign the variable to 1 if you believe our proposed answer is too low.\n",
    "2. Assign the variable to 2 if you believe our proposed answer is correct.\n",
    "3. Assign the variable to 3 if you believe our proposed answer is too high.\n",
    "\n",
    "**Question 1.1** You roll a 6-sided die 10 times. What is the chance of getting 10 sixes?\n",
    "\n",
    "**Our proposed answer**: $$(\\frac{1}{6})^{10}$$\n",
    "\n",
    "Assign `ten_sixes` to either 1, 2, or 3 depending on if you think our answer is too low, correct, or too high. "
   ]
  },
  {
   "cell_type": "code",
   "execution_count": 2,
   "id": "08c5eda4",
   "metadata": {
    "tags": []
   },
   "outputs": [
    {
     "data": {
      "text/plain": [
       "2"
      ]
     },
     "execution_count": 2,
     "metadata": {},
     "output_type": "execute_result"
    }
   ],
   "source": [
    "ten_sixes = 2\n",
    "ten_sixes"
   ]
  },
  {
   "cell_type": "code",
   "execution_count": 3,
   "id": "bfc9fe92",
   "metadata": {
    "deletable": false,
    "editable": false
   },
   "outputs": [
    {
     "data": {
      "text/html": [
       "<p><strong><pre style='display: inline;'>q1.1</pre></strong> passed!</p>"
      ],
      "text/plain": [
       "q1.1 results: All test cases passed!"
      ]
     },
     "execution_count": 3,
     "metadata": {},
     "output_type": "execute_result"
    }
   ],
   "source": [
    "grader.check(\"q1.1\")"
   ]
  },
  {
   "cell_type": "markdown",
   "id": "aa005459",
   "metadata": {},
   "source": [
    "**Question 1.2** Take the same problem set-up as before, rolling a fair dice 10 times. What is the chance that every roll is less than or equal to 5?\n",
    "\n",
    "**Our proposed answer**: $$1 - (\\frac{1}{6})^{10}$$\n",
    "\n",
    "*Hint: Solve for what the correct answer should be using pen and paper. Then use code to print your answer and the proposed answer*\n",
    "\n",
    "Assign `five_or_less` to either 1, 2, or 3 depending on if you think our answer is too low, correct, or too high. "
   ]
  },
  {
   "cell_type": "code",
   "execution_count": 52,
   "id": "394a658e",
   "metadata": {
    "tags": []
   },
   "outputs": [
    {
     "data": {
      "text/plain": [
       "3"
      ]
     },
     "execution_count": 52,
     "metadata": {},
     "output_type": "execute_result"
    }
   ],
   "source": [
    "five_or_less = 3\n",
    "five_or_less"
   ]
  },
  {
   "cell_type": "code",
   "execution_count": 53,
   "id": "18d19dec",
   "metadata": {
    "deletable": false,
    "editable": false
   },
   "outputs": [
    {
     "data": {
      "text/html": [
       "<p><strong><pre style='display: inline;'>q1.2</pre></strong> passed!</p>"
      ],
      "text/plain": [
       "q1.2 results: All test cases passed!"
      ]
     },
     "execution_count": 53,
     "metadata": {},
     "output_type": "execute_result"
    }
   ],
   "source": [
    "grader.check(\"q1.2\")"
   ]
  },
  {
   "cell_type": "markdown",
   "id": "e712da3a",
   "metadata": {},
   "source": [
    "**Question 1.3** Assume we are picking a lottery ticket. We must choose three distinct numbers from 1 to 100 and write them on a ticket. Next, someone picks three numbers one by one, each time without putting the previous number back in. We win if our numbers are all called. \n",
    "\n",
    "If we decide to play the game and pick our numbers as 12, 14, and 89, what is the chance that we win? \n",
    "\n",
    "**Our proposed answer:** $$(\\frac{3}{100})^3$$\n",
    "\n",
    "Assign `lottery` to either 1, 2, or 3 depending on if you think our answer is too low, correct, or too high. "
   ]
  },
  {
   "cell_type": "code",
   "execution_count": 4,
   "id": "2c20f708",
   "metadata": {
    "tags": []
   },
   "outputs": [],
   "source": [
    "lottery = 3"
   ]
  },
  {
   "cell_type": "code",
   "execution_count": 5,
   "id": "4af46027",
   "metadata": {
    "deletable": false,
    "editable": false
   },
   "outputs": [
    {
     "data": {
      "text/html": [
       "<p><strong><pre style='display: inline;'>q1.3</pre></strong> passed!</p>"
      ],
      "text/plain": [
       "q1.3 results: All test cases passed!"
      ]
     },
     "execution_count": 5,
     "metadata": {},
     "output_type": "execute_result"
    }
   ],
   "source": [
    "grader.check(\"q1.3\")"
   ]
  },
  {
   "cell_type": "markdown",
   "id": "2f4e84fb",
   "metadata": {},
   "source": [
    "**Question 1.4** Assume we have two lists, list A and list B. List A contains the numbers [10,20,30], while list B contains the numbers [10,20,30,40]. We choose one number from list A randomly and one number from list B randomly. What is the chance that the number we drew from list A is larger than the number we drew from list B?\n",
    "\n",
    "Our proposed solution: $$1/4$$\n",
    "\n",
    "Assign `list_chances` to either 1, 2, or 3. "
   ]
  },
  {
   "cell_type": "code",
   "execution_count": 6,
   "id": "78959ba8",
   "metadata": {
    "tags": []
   },
   "outputs": [
    {
     "data": {
      "text/plain": [
       "3"
      ]
     },
     "execution_count": 6,
     "metadata": {},
     "output_type": "execute_result"
    }
   ],
   "source": [
    "list_chances = 3\n",
    "list_chances"
   ]
  },
  {
   "cell_type": "code",
   "execution_count": 7,
   "id": "3a5401d4",
   "metadata": {
    "deletable": false,
    "editable": false
   },
   "outputs": [
    {
     "data": {
      "text/html": [
       "<p><strong><pre style='display: inline;'>q1.4</pre></strong> passed!</p>"
      ],
      "text/plain": [
       "q1.4 results: All test cases passed!"
      ]
     },
     "execution_count": 7,
     "metadata": {},
     "output_type": "execute_result"
    }
   ],
   "source": [
    "grader.check(\"q1.4\")"
   ]
  },
  {
   "cell_type": "markdown",
   "id": "e61778fa",
   "metadata": {},
   "source": [
    "## 2. Monkeys Typing Shakespeare\n",
    "##### (...or at least the string \"datascience\")"
   ]
  },
  {
   "cell_type": "markdown",
   "id": "88aea009",
   "metadata": {},
   "source": [
    "A monkey is banging repeatedly on the keys of a typewriter. Each time, the monkey is equally likely to hit any of the 26 lowercase letters of the English alphabet, regardless of what it has hit before. There are no other keys on the keyboard.\n",
    "\n",
    "**Question 2.1** Suppose the monkey hits the keyboard 11 times.  Compute the chance that the monkey types the sequence `datascience`.  (Call this `datascience_chance`.) Type in an arithmetic equation that Python can evalute."
   ]
  },
  {
   "cell_type": "code",
   "execution_count": 8,
   "id": "a7fe7beb",
   "metadata": {
    "tags": []
   },
   "outputs": [
    {
     "data": {
      "text/plain": [
       "2.7245398995795435e-16"
      ]
     },
     "execution_count": 8,
     "metadata": {},
     "output_type": "execute_result"
    }
   ],
   "source": [
    "datascience_chance = (1/26)**11\n",
    "datascience_chance"
   ]
  },
  {
   "cell_type": "code",
   "execution_count": 9,
   "id": "9d0b326c",
   "metadata": {
    "deletable": false,
    "editable": false
   },
   "outputs": [
    {
     "data": {
      "text/html": [
       "<p><strong><pre style='display: inline;'>q2.1</pre></strong> passed!</p>"
      ],
      "text/plain": [
       "q2.1 results: All test cases passed!"
      ]
     },
     "execution_count": 9,
     "metadata": {},
     "output_type": "execute_result"
    }
   ],
   "source": [
    "grader.check(\"q2.1\")"
   ]
  },
  {
   "cell_type": "markdown",
   "id": "1a49447c",
   "metadata": {},
   "source": [
    "**Question 2.2** Write a function called `simulate_key_strike`.  It should take **no arguments**, and it should return a random one-character string that is equally likely to be any of the 26 lower-case English letters. \n",
    "\n",
    "*Hint: look at the np functions on this list https://umass-data-science.github.io/190fwebsite/resources/*"
   ]
  },
  {
   "cell_type": "code",
   "execution_count": 11,
   "id": "a969c861",
   "metadata": {
    "tags": []
   },
   "outputs": [
    {
     "data": {
      "text/plain": [
       "'w'"
      ]
     },
     "execution_count": 11,
     "metadata": {},
     "output_type": "execute_result"
    }
   ],
   "source": [
    "# We have provided the code below to compute a list called letters,\n",
    "# containing all the lower-case English letters.  Print it if you\n",
    "# want to verify what it contains.\n",
    "\n",
    "import string\n",
    "from numpy import random as rand\n",
    "letters = list(string.ascii_lowercase)\n",
    "\n",
    "def simulate_key_strike():\n",
    "    \"\"\"Simulates one random key strike.\"\"\"\n",
    "    char = rand.choice(letters)\n",
    "    return char\n",
    "\n",
    "# An example call to your function:\n",
    "simulate_key_strike()"
   ]
  },
  {
   "cell_type": "code",
   "execution_count": 12,
   "id": "18428e2d",
   "metadata": {
    "deletable": false,
    "editable": false
   },
   "outputs": [
    {
     "data": {
      "text/html": [
       "<p><strong><pre style='display: inline;'>q2.2</pre></strong> passed!</p>"
      ],
      "text/plain": [
       "q2.2 results: All test cases passed!"
      ]
     },
     "execution_count": 12,
     "metadata": {},
     "output_type": "execute_result"
    }
   ],
   "source": [
    "grader.check(\"q2.2\")"
   ]
  },
  {
   "cell_type": "markdown",
   "id": "980486db",
   "metadata": {},
   "source": [
    "**Question 2.3** Write a function called `simulate_several_key_strikes`.  It should take one argument: an integer specifying the number of key strikes to simulate. It should return a string containing that many characters, each one obtained from simulating a key strike by the monkey.\n",
    "\n",
    "*Hint:* If you make a list or array of the simulated key strikes, you can convert that to a string by calling `\"\".join(key_strikes_array)` (if your array is called `key_strikes_array`)."
   ]
  },
  {
   "cell_type": "code",
   "execution_count": 18,
   "id": "b4daebf7",
   "metadata": {
    "tags": []
   },
   "outputs": [
    {
     "data": {
      "text/plain": [
       "'xqzsmtbzzmp'"
      ]
     },
     "execution_count": 18,
     "metadata": {},
     "output_type": "execute_result"
    }
   ],
   "source": [
    "import random\n",
    "import string\n",
    "\n",
    "def simulate_several_key_strikes(l):\n",
    "    # Fill in this function.  Our solution used several lines\n",
    "    # of code.\n",
    "    \n",
    "    char_set = string.ascii_lowercase\n",
    "    return \"\".join(random.choice(char_set) for i in range(l))\n",
    "    \n",
    "# An example call to your function:\n",
    "simulate_several_key_strikes(11)"
   ]
  },
  {
   "cell_type": "code",
   "execution_count": 19,
   "id": "c6054ccc",
   "metadata": {
    "deletable": false,
    "editable": false
   },
   "outputs": [
    {
     "data": {
      "text/html": [
       "<p><strong><pre style='display: inline;'>q2.3</pre></strong> passed!</p>"
      ],
      "text/plain": [
       "q2.3 results: All test cases passed!"
      ]
     },
     "execution_count": 19,
     "metadata": {},
     "output_type": "execute_result"
    }
   ],
   "source": [
    "grader.check(\"q2.3\")"
   ]
  },
  {
   "cell_type": "markdown",
   "id": "68111cf8",
   "metadata": {},
   "source": [
    "**Question 2.4** Use `simulate_several_key_strikes` 1000 times, each time simulating the monkey striking 11 keys.  Compute the proportion of times the monkey types `\"datascience\"`, calling that proportion `datascience_proportion`."
   ]
  },
  {
   "cell_type": "code",
   "execution_count": 54,
   "id": "3140fc6d",
   "metadata": {
    "tags": []
   },
   "outputs": [
    {
     "data": {
      "text/plain": [
       "0.0"
      ]
     },
     "execution_count": 54,
     "metadata": {},
     "output_type": "execute_result"
    }
   ],
   "source": [
    "# Your solution may take more than one line.\n",
    "dsNum = 0\n",
    "for _ in range(1000):     \n",
    "    if simulate_several_key_strikes(11)== \"datascience\":\n",
    "        dsNum +=1\n",
    "datascience_proportion = dsNum/1000\n",
    " \n",
    "datascience_proportion"
   ]
  },
  {
   "cell_type": "code",
   "execution_count": 55,
   "id": "2977269e",
   "metadata": {
    "deletable": false,
    "editable": false
   },
   "outputs": [
    {
     "data": {
      "text/html": [
       "<p><strong><pre style='display: inline;'>q2.4</pre></strong> passed!</p>"
      ],
      "text/plain": [
       "q2.4 results: All test cases passed!"
      ]
     },
     "execution_count": 55,
     "metadata": {},
     "output_type": "execute_result"
    }
   ],
   "source": [
    "grader.check(\"q2.4\")"
   ]
  },
  {
   "cell_type": "markdown",
   "id": "87fcf8f1",
   "metadata": {},
   "source": [
    "**Question 2.5** Check the value your simulation computed for `datascience_proportion`.  Is your simulation a good way to estimate the chance that the monkey types `\"datascience\"` in 11 strikes (the answer to question 1)?  Why or why not?"
   ]
  },
  {
   "cell_type": "markdown",
   "id": "c3383bfb",
   "metadata": {
    "manual_grade": true,
    "manual_problem_id": "monkeys_5"
   },
   "source": [
    "No, it's not a good way of estimating the chance because it's still very unlikely for the monkey to type datascience out within 1000 attempts"
   ]
  },
  {
   "cell_type": "markdown",
   "id": "3e974265",
   "metadata": {},
   "source": [
    "**Question 2.6** Compute the chance that the monkey types the letter `\"e\"` at least once in the 11 strikes.  Call it `e_chance`. Use algebra and type in an arithmetic equation that Python can evalute. "
   ]
  },
  {
   "cell_type": "code",
   "execution_count": 56,
   "id": "931ec387",
   "metadata": {
    "tags": []
   },
   "outputs": [
    {
     "data": {
      "text/plain": [
       "0.348"
      ]
     },
     "execution_count": 56,
     "metadata": {},
     "output_type": "execute_result"
    }
   ],
   "source": [
    "eNum = 0\n",
    "for _ in range(1000):     \n",
    "    if \"e\" in simulate_several_key_strikes(11):\n",
    "        eNum +=1\n",
    "e_chance = eNum/1000\n",
    " \n",
    "e_chance"
   ]
  },
  {
   "cell_type": "code",
   "execution_count": 57,
   "id": "64391f79",
   "metadata": {
    "deletable": false,
    "editable": false
   },
   "outputs": [
    {
     "data": {
      "text/html": [
       "<p><strong><pre style='display: inline;'>q2.6</pre></strong> passed!</p>"
      ],
      "text/plain": [
       "q2.6 results: All test cases passed!"
      ]
     },
     "execution_count": 57,
     "metadata": {},
     "output_type": "execute_result"
    }
   ],
   "source": [
    "grader.check(\"q2.6\")"
   ]
  },
  {
   "cell_type": "markdown",
   "id": "8f5a093d",
   "metadata": {},
   "source": [
    "**Question 7.** Do you think that a computer simulation is more or less effective to estimate `e_chance` compared to when we tried to estimate `datascience_chance` this way? Why or why not? (You don't need to write a simulation, but it is an interesting exercise.)"
   ]
  },
  {
   "cell_type": "markdown",
   "id": "7d7c34b2",
   "metadata": {
    "manual_grade": true,
    "manual_problem_id": "monkeys_7"
   },
   "source": [
    "I think it's more effective to estiamte e_chance since that is much more likely to happen within that 1000 times than the monkey typing datascience."
   ]
  },
  {
   "cell_type": "markdown",
   "id": "dac415f0",
   "metadata": {},
   "source": [
    "## 3. Sampling Basketball Players\n"
   ]
  },
  {
   "cell_type": "markdown",
   "id": "f659ad35",
   "metadata": {},
   "source": [
    "This exercise uses salary data and game statistics for basketball players from the 2014-2015 NBA season. The data was collected from [Basketball-Reference](http://www.basketball-reference.com) and [Spotrac](http://www.spotrac.com).\n",
    "\n",
    "Run the next cell to load the two datasets."
   ]
  },
  {
   "cell_type": "code",
   "execution_count": 22,
   "id": "65347d78",
   "metadata": {},
   "outputs": [
    {
     "data": {
      "text/html": [
       "<table border=\"1\" class=\"dataframe\">\n",
       "    <thead>\n",
       "        <tr>\n",
       "            <th>Name</th> <th>Age</th> <th>Team</th> <th>Games</th> <th>Rebounds</th> <th>Assists</th> <th>Steals</th> <th>Blocks</th> <th>Turnovers</th> <th>Points</th>\n",
       "        </tr>\n",
       "    </thead>\n",
       "    <tbody>\n",
       "        <tr>\n",
       "            <td>James Harden </td> <td>25  </td> <td>HOU </td> <td>81   </td> <td>459     </td> <td>565    </td> <td>154   </td> <td>60    </td> <td>321      </td> <td>2217  </td>\n",
       "        </tr>\n",
       "        <tr>\n",
       "            <td>Chris Paul   </td> <td>29  </td> <td>LAC </td> <td>82   </td> <td>376     </td> <td>838    </td> <td>156   </td> <td>15    </td> <td>190      </td> <td>1564  </td>\n",
       "        </tr>\n",
       "        <tr>\n",
       "            <td>Stephen Curry</td> <td>26  </td> <td>GSW </td> <td>80   </td> <td>341     </td> <td>619    </td> <td>163   </td> <td>16    </td> <td>249      </td> <td>1900  </td>\n",
       "        </tr>\n",
       "    </tbody>\n",
       "</table>\n",
       "<p>... (489 rows omitted)</p>"
      ],
      "text/plain": [
       "<IPython.core.display.HTML object>"
      ]
     },
     "metadata": {},
     "output_type": "display_data"
    },
    {
     "data": {
      "text/html": [
       "<table border=\"1\" class=\"dataframe\">\n",
       "    <thead>\n",
       "        <tr>\n",
       "            <th>PlayerName</th> <th>Salary</th>\n",
       "        </tr>\n",
       "    </thead>\n",
       "    <tbody>\n",
       "        <tr>\n",
       "            <td>Kobe Bryant      </td> <td>23500000</td>\n",
       "        </tr>\n",
       "        <tr>\n",
       "            <td>Amar'e Stoudemire</td> <td>23410988</td>\n",
       "        </tr>\n",
       "        <tr>\n",
       "            <td>Joe Johnson      </td> <td>23180790</td>\n",
       "        </tr>\n",
       "    </tbody>\n",
       "</table>\n",
       "<p>... (489 rows omitted)</p>"
      ],
      "text/plain": [
       "<IPython.core.display.HTML object>"
      ]
     },
     "metadata": {},
     "output_type": "display_data"
    }
   ],
   "source": [
    "player_data = Table.read_table('player_data.csv')\n",
    "salary_data = Table.read_table('salary_data.csv')\n",
    "player_data.show(3)\n",
    "salary_data.show(3)"
   ]
  },
  {
   "cell_type": "markdown",
   "id": "d641c152",
   "metadata": {},
   "source": [
    "We would like to relate players' game statistics to their salaries, so we have computed a table called `full_data` that includes one row for each player who is listed in both `player_data` and `salary_data` using the table `join` method.  It includes all the columns from `player_data` and `salary_data`, except the `\"PlayerName\"` column."
   ]
  },
  {
   "cell_type": "code",
   "execution_count": 23,
   "id": "5ea6a5e3",
   "metadata": {},
   "outputs": [
    {
     "data": {
      "text/html": [
       "<table border=\"1\" class=\"dataframe\">\n",
       "    <thead>\n",
       "        <tr>\n",
       "            <th>Name</th> <th>Age</th> <th>Team</th> <th>Games</th> <th>Rebounds</th> <th>Assists</th> <th>Steals</th> <th>Blocks</th> <th>Turnovers</th> <th>Points</th> <th>Salary</th>\n",
       "        </tr>\n",
       "    </thead>\n",
       "    <tbody>\n",
       "        <tr>\n",
       "            <td>A.J. Price     </td> <td>28  </td> <td>TOT </td> <td>26   </td> <td>32      </td> <td>46     </td> <td>7     </td> <td>0     </td> <td>14       </td> <td>133   </td> <td>62552   </td>\n",
       "        </tr>\n",
       "        <tr>\n",
       "            <td>Aaron Brooks   </td> <td>30  </td> <td>CHI </td> <td>82   </td> <td>166     </td> <td>261    </td> <td>54    </td> <td>15    </td> <td>157      </td> <td>954   </td> <td>1145685 </td>\n",
       "        </tr>\n",
       "        <tr>\n",
       "            <td>Aaron Gordon   </td> <td>19  </td> <td>ORL </td> <td>47   </td> <td>169     </td> <td>33     </td> <td>21    </td> <td>22    </td> <td>38       </td> <td>243   </td> <td>3992040 </td>\n",
       "        </tr>\n",
       "        <tr>\n",
       "            <td>Adreian Payne  </td> <td>23  </td> <td>TOT </td> <td>32   </td> <td>162     </td> <td>30     </td> <td>19    </td> <td>9     </td> <td>44       </td> <td>213   </td> <td>1855320 </td>\n",
       "        </tr>\n",
       "        <tr>\n",
       "            <td>Al Horford     </td> <td>28  </td> <td>ATL </td> <td>76   </td> <td>544     </td> <td>244    </td> <td>68    </td> <td>98    </td> <td>100      </td> <td>1156  </td> <td>12000000</td>\n",
       "        </tr>\n",
       "        <tr>\n",
       "            <td>Al Jefferson   </td> <td>30  </td> <td>CHO </td> <td>65   </td> <td>548     </td> <td>113    </td> <td>47    </td> <td>84    </td> <td>68       </td> <td>1082  </td> <td>13666667</td>\n",
       "        </tr>\n",
       "        <tr>\n",
       "            <td>Al-Farouq Aminu</td> <td>24  </td> <td>DAL </td> <td>74   </td> <td>342     </td> <td>59     </td> <td>70    </td> <td>62    </td> <td>55       </td> <td>412   </td> <td>1100602 </td>\n",
       "        </tr>\n",
       "        <tr>\n",
       "            <td>Alan Anderson  </td> <td>32  </td> <td>BRK </td> <td>74   </td> <td>204     </td> <td>83     </td> <td>56    </td> <td>5     </td> <td>60       </td> <td>545   </td> <td>1276061 </td>\n",
       "        </tr>\n",
       "        <tr>\n",
       "            <td>Alec Burks     </td> <td>23  </td> <td>UTA </td> <td>27   </td> <td>114     </td> <td>82     </td> <td>17    </td> <td>5     </td> <td>52       </td> <td>374   </td> <td>3034356 </td>\n",
       "        </tr>\n",
       "        <tr>\n",
       "            <td>Alex Kirk      </td> <td>23  </td> <td>CLE </td> <td>5    </td> <td>1       </td> <td>1      </td> <td>0     </td> <td>0     </td> <td>0        </td> <td>4     </td> <td>507336  </td>\n",
       "        </tr>\n",
       "    </tbody>\n",
       "</table>\n",
       "<p>... (482 rows omitted)</p>"
      ],
      "text/plain": [
       "Name            | Age  | Team | Games | Rebounds | Assists | Steals | Blocks | Turnovers | Points | Salary\n",
       "A.J. Price      | 28   | TOT  | 26    | 32       | 46      | 7      | 0      | 14        | 133    | 62552\n",
       "Aaron Brooks    | 30   | CHI  | 82    | 166      | 261     | 54     | 15     | 157       | 954    | 1145685\n",
       "Aaron Gordon    | 19   | ORL  | 47    | 169      | 33      | 21     | 22     | 38        | 243    | 3992040\n",
       "Adreian Payne   | 23   | TOT  | 32    | 162      | 30      | 19     | 9      | 44        | 213    | 1855320\n",
       "Al Horford      | 28   | ATL  | 76    | 544      | 244     | 68     | 98     | 100       | 1156   | 12000000\n",
       "Al Jefferson    | 30   | CHO  | 65    | 548      | 113     | 47     | 84     | 68        | 1082   | 13666667\n",
       "Al-Farouq Aminu | 24   | DAL  | 74    | 342      | 59      | 70     | 62     | 55        | 412    | 1100602\n",
       "Alan Anderson   | 32   | BRK  | 74    | 204      | 83      | 56     | 5      | 60        | 545    | 1276061\n",
       "Alec Burks      | 23   | UTA  | 27    | 114      | 82      | 17     | 5      | 52        | 374    | 3034356\n",
       "Alex Kirk       | 23   | CLE  | 5     | 1        | 1       | 0      | 0      | 0         | 4      | 507336\n",
       "... (482 rows omitted)"
      ]
     },
     "execution_count": 23,
     "metadata": {},
     "output_type": "execute_result"
    }
   ],
   "source": [
    "full_data = player_data.join(\"Name\", salary_data, \"PlayerName\")\n",
    "full_data"
   ]
  },
  {
   "cell_type": "markdown",
   "id": "4063107f",
   "metadata": {},
   "source": [
    "Basketball team managers would like to hire players who perform well but don't command high salaries.  From this perspective, a very crude measure of a player's *value* to their team is the number of points the player scored in a season for every **\\$1000 of salary** (*Note*: the `Salary` column is in dollars, not thousands of dollars). For example, Al Horford scored 1156 points and has a salary of **\\$12 million.** This is equivalent to 12,000 thousands of dollars, so his value is $\\frac{1156}{12000}$.\n",
    "\n",
    "**Question 3.1** Create a table called `full_data_with_value` that's a copy of `full_data`, with an extra column called `\"Value\"` containing each player's value (according to our crude measure).  Then make a histogram of players' values.  **Specify bins that make the histogram informative, and don't forget your units!** Remember that `hist()` takes in an optional third argument that allows you to specify the units!\n",
    "\n",
    "*Hint*: Informative histograms contain a majority of the data and **exclude outliers**.\n",
    "*Hint 2*: For help with `hist()`: http://data8.org/datascience/_autosummary/datascience.tables.Table.hist.html"
   ]
  },
  {
   "cell_type": "markdown",
   "id": "ab228b17",
   "metadata": {},
   "source": [
    "<!-- BEGIN QUESTION -->\n",
    "\n"
   ]
  },
  {
   "cell_type": "code",
   "execution_count": 30,
   "id": "1ce0e702",
   "metadata": {
    "tags": []
   },
   "outputs": [
    {
     "data": {
      "image/png": "[encoded data removed]",
      "text/plain": [
       "<Figure size 432x288 with 1 Axes>"
      ]
     },
     "metadata": {},
     "output_type": "display_data"
    }
   ],
   "source": [
    "\n",
    "\n",
    "# Create copy of full_data\n",
    "full_data_with_value = full_data.copy()\n",
    "\n",
    "# Create a column value\n",
    "full_data_with_value = full_data.with_column(\"Value\", full_data.column(\"Points\")/(full_data.column(\"Salary\")/1000))\n",
    " \n",
    "full_data_with_value.hist(\"Value\", bins=np.arange(0,1,.1), unit=\"Points per Thousand Dollars of Salary\")\n",
    "\n",
    "# Convert dataframe to table\n",
    "#tbl = Table.from_df(full_data_with_value)\n",
    "#tbl\n",
    "\n",
    "# Create histogram\n",
    "#bins = np.arange(0,0.7,0.1)\n",
    "#tbl.hist('Value', bins=bins, unit='$100000')"
   ]
  },
  {
   "cell_type": "markdown",
   "id": "d9882494",
   "metadata": {},
   "source": [
    "<!-- END QUESTION -->\n",
    "\n",
    "Now suppose we weren't able to find out every player's salary (perhaps it was too costly to interview each player).  Instead, we have gathered a *simple random sample* of 100 players' salaries.  The cell below loads those data."
   ]
  },
  {
   "cell_type": "code",
   "execution_count": 31,
   "id": "2fb8468c",
   "metadata": {
    "scrolled": true
   },
   "outputs": [
    {
     "data": {
      "text/html": [
       "<table border=\"1\" class=\"dataframe\">\n",
       "    <thead>\n",
       "        <tr>\n",
       "            <th>PlayerName</th> <th>Salary</th>\n",
       "        </tr>\n",
       "    </thead>\n",
       "    <tbody>\n",
       "        <tr>\n",
       "            <td>C.J. Watson     </td> <td>2106720</td>\n",
       "        </tr>\n",
       "        <tr>\n",
       "            <td>Taj Gibson      </td> <td>8000000</td>\n",
       "        </tr>\n",
       "        <tr>\n",
       "            <td>Jerrelle Benimon</td> <td>35000  </td>\n",
       "        </tr>\n",
       "    </tbody>\n",
       "</table>\n",
       "<p>... (97 rows omitted)</p>"
      ],
      "text/plain": [
       "<IPython.core.display.HTML object>"
      ]
     },
     "metadata": {},
     "output_type": "display_data"
    }
   ],
   "source": [
    "sample_salary_data = Table.read_table(\"sample_salary_data.csv\")\n",
    "sample_salary_data.show(3)"
   ]
  },
  {
   "cell_type": "markdown",
   "id": "5269107d",
   "metadata": {},
   "source": [
    "**Question 3.2** Make a histogram of the values of the players in `sample_salary_data`, using the same method for measuring value we used in question 2.  **Use the same bins, too.**  \n",
    "\n",
    "*Hint:* This will take several steps, including using a table join as shown above."
   ]
  },
  {
   "cell_type": "markdown",
   "id": "d7494d7a",
   "metadata": {},
   "source": [
    "<!-- BEGIN QUESTION -->\n",
    "\n"
   ]
  },
  {
   "cell_type": "code",
   "execution_count": 29,
   "id": "ed939ba1",
   "metadata": {
    "tags": []
   },
   "outputs": [
    {
     "data": {
      "image/png": "[encoded data removed]",
      "text/plain": [
       "<Figure size 432x288 with 1 Axes>"
      ]
     },
     "metadata": {},
     "output_type": "display_data"
    }
   ],
   "source": [
    "sample_data = player_data.join('Name', sample_salary_data, 'PlayerName')\n",
    "sample_data_with_value = sample_data.with_column(\"Value\", sample_data.column(\"Points\")/(sample_data.column(\"Salary\")/1000))\n",
    "sample_data_with_value.hist(\"Value\", bins=np.arange(0,1,.1), unit=\"Points per Thousand Dollars of Salary\")"
   ]
  },
  {
   "cell_type": "markdown",
   "id": "fe204e95",
   "metadata": {},
   "source": [
    "<!-- END QUESTION -->\n",
    "\n",
    "Now let us summarize what we have seen.  To guide you, we have written most of the summary already.\n",
    "\n",
    "**Question 3.3** Complete the statements below by filling in the **[SQUARE BRACKETS]**. \n",
    "\n",
    "*Hint 1:* For a refresher on distribution types, check out [Section 10.1](https://www.inferentialthinking.com/chapters/10/1/empirical-distributions.html)\n",
    "\n",
    "*Hint 2:* The `hist()` table method ignores data points outside the range of its bins, but you may ignore this fact and calculate the areas of the bars using what you know about histograms from lecture. "
   ]
  },
  {
   "cell_type": "markdown",
   "id": "790fb512",
   "metadata": {
    "for_assignment_type": "student",
    "manual_grade": true,
    "manual_problem_id": "sampling_players_4"
   },
   "source": [
    "<!-- BEGIN QUESTION -->\n",
    "\n",
    "The plot in question 3.1 displayed a(n) **[DISTRIBUTION TYPE]** distribution of the population of **[A NUMBER]** players.  The areas of the bars in the plot sum to **[A NUMBER]**.\n",
    "\n",
    "The plot in question 3.2 displayed a(n) **[DISTRIBUTION TYPE]** distribution of the sample of **[A NUMBER]** players.  The areas of the bars in the plot sum to **[A NUMBER]**."
   ]
  },
  {
   "cell_type": "markdown",
   "id": "3843387b",
   "metadata": {},
   "source": [
    "probability 492\n",
    "empirical 100"
   ]
  },
  {
   "cell_type": "markdown",
   "id": "0d6ffd52",
   "metadata": {},
   "source": [
    "<!-- END QUESTION -->\n",
    "\n",
    "**Question 3.4** For which range of values does the plot in question 3.2 better depict the distribution of the population's **player values**: 0 to 0.5, or above 0.5? Explain your answer. "
   ]
  },
  {
   "cell_type": "markdown",
   "id": "265429bb",
   "metadata": {},
   "source": [
    "_Type your answer here, replacing this text._"
   ]
  },
  {
   "cell_type": "markdown",
   "id": "d909e3a3",
   "metadata": {},
   "source": [
    "<!-- END QUESTION -->\n",
    "\n",
    "## 4. Earthquakes\n"
   ]
  },
  {
   "cell_type": "markdown",
   "id": "046efe46",
   "metadata": {},
   "source": [
    "The next cell loads a table containing information about **every earthquake with a magnitude above 4.5** in 2017, compiled by the US Geological Survey. (source: https://earthquake.usgs.gov/earthquakes/search/)"
   ]
  },
  {
   "cell_type": "code",
   "execution_count": 33,
   "id": "38b821fe",
   "metadata": {
    "ExecuteTime": {
     "end_time": "2018-02-17T03:01:37.654915Z",
     "start_time": "2018-02-17T03:01:37.599746Z"
    }
   },
   "outputs": [
    {
     "data": {
      "text/html": [
       "<table border=\"1\" class=\"dataframe\">\n",
       "    <thead>\n",
       "        <tr>\n",
       "            <th>time</th> <th>mag</th> <th>place</th>\n",
       "        </tr>\n",
       "    </thead>\n",
       "    <tbody>\n",
       "        <tr>\n",
       "            <td>2017-12-31T23:48:50.980Z</td> <td>4.8 </td> <td>30km SSE of Pagan, Northern Mariana Islands      </td>\n",
       "        </tr>\n",
       "        <tr>\n",
       "            <td>2017-12-31T20:59:02.500Z</td> <td>5.1 </td> <td>Southern East Pacific Rise                       </td>\n",
       "        </tr>\n",
       "        <tr>\n",
       "            <td>2017-12-31T20:27:49.450Z</td> <td>5.2 </td> <td>Chagos Archipelago region                        </td>\n",
       "        </tr>\n",
       "        <tr>\n",
       "            <td>2017-12-31T19:42:41.250Z</td> <td>4.6 </td> <td>18km NE of Hasaki, Japan                         </td>\n",
       "        </tr>\n",
       "        <tr>\n",
       "            <td>2017-12-31T16:02:59.920Z</td> <td>4.5 </td> <td>Western Xizang                                   </td>\n",
       "        </tr>\n",
       "        <tr>\n",
       "            <td>2017-12-31T15:50:22.510Z</td> <td>4.5 </td> <td>156km SSE of Longyearbyen, Svalbard and Jan Mayen</td>\n",
       "        </tr>\n",
       "        <tr>\n",
       "            <td>2017-12-31T14:53:32.590Z</td> <td>5.1 </td> <td>41km S of Daliao, Philippines                    </td>\n",
       "        </tr>\n",
       "        <tr>\n",
       "            <td>2017-12-31T14:51:58.200Z</td> <td>5.1 </td> <td>132km SSW of Lata, Solomon Islands               </td>\n",
       "        </tr>\n",
       "        <tr>\n",
       "            <td>2017-12-31T12:24:13.150Z</td> <td>4.6 </td> <td>79km SSW of Hirara, Japan                        </td>\n",
       "        </tr>\n",
       "        <tr>\n",
       "            <td>2017-12-31T04:02:18.500Z</td> <td>4.8 </td> <td>10km W of Korini, Greece                         </td>\n",
       "        </tr>\n",
       "    </tbody>\n",
       "</table>\n",
       "<p>... (6350 rows omitted)</p>"
      ],
      "text/plain": [
       "time                     | mag  | place\n",
       "2017-12-31T23:48:50.980Z | 4.8  | 30km SSE of Pagan, Northern Mariana Islands\n",
       "2017-12-31T20:59:02.500Z | 5.1  | Southern East Pacific Rise\n",
       "2017-12-31T20:27:49.450Z | 5.2  | Chagos Archipelago region\n",
       "2017-12-31T19:42:41.250Z | 4.6  | 18km NE of Hasaki, Japan\n",
       "2017-12-31T16:02:59.920Z | 4.5  | Western Xizang\n",
       "2017-12-31T15:50:22.510Z | 4.5  | 156km SSE of Longyearbyen, Svalbard and Jan Mayen\n",
       "2017-12-31T14:53:32.590Z | 5.1  | 41km S of Daliao, Philippines\n",
       "2017-12-31T14:51:58.200Z | 5.1  | 132km SSW of Lata, Solomon Islands\n",
       "2017-12-31T12:24:13.150Z | 4.6  | 79km SSW of Hirara, Japan\n",
       "2017-12-31T04:02:18.500Z | 4.8  | 10km W of Korini, Greece\n",
       "... (6350 rows omitted)"
      ]
     },
     "execution_count": 33,
     "metadata": {},
     "output_type": "execute_result"
    }
   ],
   "source": [
    "earthquakes = Table().read_table('earthquakes_2017.csv').select(['time', 'mag', 'place'])\n",
    "earthquakes"
   ]
  },
  {
   "cell_type": "markdown",
   "id": "5bcba6ca",
   "metadata": {},
   "source": [
    "There are a several earthquakes that occurred in 2017 that we're interested in, and generally, we won't have access to this large population. Instead, if we sample correctly, we can take a small subsample of earthquakes in this year to get an idea about the distribution of magnitudes throughout the year!"
   ]
  },
  {
   "cell_type": "markdown",
   "id": "5e272f9c",
   "metadata": {},
   "source": [
    "**Question 4.1** In the following lines of code, we take two different samples from the earthquake table, and calculate the mean of the magnitudes of these earthquakes. Are these samples representative of the population of earthquakes in the original table (that is, the should we expect the mean to be close to the population mean)? \n",
    "\n",
    "*Hint:* Consider the ordering of the `earthquakes` table. "
   ]
  },
  {
   "cell_type": "markdown",
   "id": "79b33605",
   "metadata": {},
   "source": [
    "<!-- BEGIN QUESTION -->\n",
    "\n"
   ]
  },
  {
   "cell_type": "code",
   "execution_count": 34,
   "id": "fdf915de",
   "metadata": {
    "ExecuteTime": {
     "end_time": "2018-02-17T03:01:37.666923Z",
     "start_time": "2018-02-17T03:01:37.656896Z"
    }
   },
   "outputs": [
    {
     "data": {
      "text/plain": [
       "[6.422999999999999, 4.7749999999999995]"
      ]
     },
     "execution_count": 34,
     "metadata": {},
     "output_type": "execute_result"
    }
   ],
   "source": [
    "sample1 = earthquakes.sort('mag', descending = True).take(np.arange(100))\n",
    "sample1_magnitude_mean = np.mean(sample1.column('mag'))\n",
    "sample2 = earthquakes.take(np.arange(100))\n",
    "sample2_magnitude_mean = np.mean(sample2.column('mag'))\n",
    "[sample1_magnitude_mean, sample2_magnitude_mean]"
   ]
  },
  {
   "cell_type": "markdown",
   "id": "9f670a3b",
   "metadata": {},
   "source": [
    "Neither sample is representative. Sample 1 uses the earthquakes with the 100 highest magnitudes. Sample 2 uses 100 earliest earthquakes. Neither are random samples, and can’t be considered to be representative of the population of all earthquakes in the original table."
   ]
  },
  {
   "cell_type": "markdown",
   "id": "dc79a345",
   "metadata": {},
   "source": [
    "<!-- END QUESTION -->\n",
    "\n",
    "**Question 4.2** Write code producing a sample that should represent the population of size 500 then take the mean of the magnitudes of the earthquakes in this sample. Assign these to `representative_sample` and `representative_mean` respectively. \n",
    "\n",
    "*Hint:* In class, what sort of samples can properly represent the population? \n",
    "*Hint 2:* This may help http://data8.org/datascience/_autosummary/datascience.tables.Table.sample.html?highlight=sample"
   ]
  },
  {
   "cell_type": "code",
   "execution_count": 35,
   "id": "880fc32b",
   "metadata": {
    "tags": []
   },
   "outputs": [
    {
     "data": {
      "text/plain": [
       "4.8046"
      ]
     },
     "execution_count": 35,
     "metadata": {},
     "output_type": "execute_result"
    }
   ],
   "source": [
    "representative_sample = earthquakes.take(np.random.choice(np.arange(6360), 500, replace=False))\n",
    "representative_mean = np.average(representative_sample.column(\"mag\"))\n",
    "representative_mean"
   ]
  },
  {
   "cell_type": "code",
   "execution_count": 36,
   "id": "ad42be63",
   "metadata": {
    "deletable": false,
    "editable": false
   },
   "outputs": [
    {
     "data": {
      "text/html": [
       "<p><strong><pre style='display: inline;'>q4.2</pre></strong> passed!</p>"
      ],
      "text/plain": [
       "q4.2 results: All test cases passed!"
      ]
     },
     "execution_count": 36,
     "metadata": {},
     "output_type": "execute_result"
    }
   ],
   "source": [
    "grader.check(\"q4.2\")"
   ]
  },
  {
   "cell_type": "markdown",
   "id": "a27687df",
   "metadata": {},
   "source": [
    "**Question 4.3** Suppose we want to figure out what the biggest magnitude earthquake was in 2017, but we are tasked with doing this only with a sample of 500 from the earthquakes table. \n",
    "\n",
    "To determine whether trying to find the biggest magnitude from a sample is a plausible idea, write code that simulates the maximum of a random sample of size 500 from the `earthquakes` table 5000 times. Assign your array of maximums to `maximums`. "
   ]
  },
  {
   "cell_type": "code",
   "execution_count": 37,
   "id": "53a513a8",
   "metadata": {
    "tags": []
   },
   "outputs": [
    {
     "data": {
      "text/plain": [
       "array([8.2, 6.6, 6.8, ..., 6.5, 7.7, 6.5])"
      ]
     },
     "execution_count": 37,
     "metadata": {},
     "output_type": "execute_result"
    }
   ],
   "source": [
    "maximums = make_array()\n",
    "for i in np.arange(5000): \n",
    "    maximums = np.append(maximums, max(earthquakes.take(np.random.choice(np.arange(6360), 500, replace=False)).column('mag')))\n",
    "maximums"
   ]
  },
  {
   "cell_type": "code",
   "execution_count": 38,
   "id": "09454cb8",
   "metadata": {
    "deletable": false,
    "editable": false
   },
   "outputs": [
    {
     "data": {
      "text/html": [
       "<p><strong><pre style='display: inline;'>q4.3</pre></strong> passed!</p>"
      ],
      "text/plain": [
       "q4.3 results: All test cases passed!"
      ]
     },
     "execution_count": 38,
     "metadata": {},
     "output_type": "execute_result"
    }
   ],
   "source": [
    "grader.check(\"q4.3\")"
   ]
  },
  {
   "cell_type": "code",
   "execution_count": 39,
   "id": "65e28514",
   "metadata": {},
   "outputs": [
    {
     "data": {
      "image/png": "[encoded data removed]",
      "text/plain": [
       "<Figure size 432x288 with 1 Axes>"
      ]
     },
     "metadata": {},
     "output_type": "display_data"
    }
   ],
   "source": [
    "#Histogram of your maximums\n",
    "Table().with_column('Largest magnitude in sample', maximums).hist('Largest magnitude in sample') "
   ]
  },
  {
   "cell_type": "markdown",
   "id": "b4afcb12",
   "metadata": {},
   "source": [
    "**Question 4.4** We want to see if a random sample of size 500 is likely to help you determine the largest magnitude earthquake in the population. To help determine this, find the magnitude of the (actual) strongest earthquake in 2017."
   ]
  },
  {
   "cell_type": "code",
   "execution_count": 40,
   "id": "e9903706",
   "metadata": {
    "tags": []
   },
   "outputs": [
    {
     "data": {
      "text/plain": [
       "8.2"
      ]
     },
     "execution_count": 40,
     "metadata": {},
     "output_type": "execute_result"
    }
   ],
   "source": [
    "strongest_earthquake_magnitude = max(earthquakes.column('mag'))\n",
    "strongest_earthquake_magnitude"
   ]
  },
  {
   "cell_type": "code",
   "execution_count": 41,
   "id": "e822a0a7",
   "metadata": {
    "deletable": false,
    "editable": false
   },
   "outputs": [
    {
     "data": {
      "text/html": [
       "<p><strong><pre style='display: inline;'>q4.4</pre></strong> passed!</p>"
      ],
      "text/plain": [
       "q4.4 results: All test cases passed!"
      ]
     },
     "execution_count": 41,
     "metadata": {},
     "output_type": "execute_result"
    }
   ],
   "source": [
    "grader.check(\"q4.4\")"
   ]
  },
  {
   "cell_type": "markdown",
   "id": "142fa530",
   "metadata": {},
   "source": [
    "**Question 4.5** Explain whether you believe you can accurately use a sample size of 500 to determine the maximum. What is a specific con of using the maximum as your estimator? Use the histogram above to help answer. "
   ]
  },
  {
   "cell_type": "markdown",
   "id": "524d3483",
   "metadata": {},
   "source": [
    "You can't accurately use a 500 sample size to find the maximum, as if you use a representative sample you run the risk of not including the actual maximum. The histogram above shows that the majority of the time, the actual maximum 8.2, was excluded, and another magnitude was labeled as the maximum."
   ]
  },
  {
   "cell_type": "markdown",
   "id": "5ae18924",
   "metadata": {},
   "source": [
    "<!-- END QUESTION -->\n",
    "\n",
    "## 5. Assessing Gary's Models\n",
    "#### Games with Gary"
   ]
  },
  {
   "cell_type": "markdown",
   "id": "21b15683",
   "metadata": {},
   "source": [
    "Our friend Gary comes over and asks us to play a game with him. The game works like this: \n",
    "\n",
    "> We will flip a fair coin 10 times, and if the number of heads is greater than or equal to 5, we win!\n",
    "> \n",
    "> Otherwise, Gary wins.\n",
    "\n",
    "We play the game once and after all 10 flips we observe 1 head. We are angry and accuse Gary of cheating! Gary is adamant, however, that the coin is fair.\n",
    "\n",
    "Gary's model claims that there is an equal chance of getting heads or tails, but we do not believe him. We believe that the coin is clearly rigged, with heads being less likely than tails. "
   ]
  },
  {
   "cell_type": "markdown",
   "id": "7a1a328a",
   "metadata": {},
   "source": [
    "**Question 5.1** Assign `coin_model_probabilities` to a two-item array containing the chance of heads as the first element and the chance of tails as the second element under Gary's model. Make sure your values are between 0 and 1. "
   ]
  },
  {
   "cell_type": "code",
   "execution_count": 42,
   "id": "dc768c55",
   "metadata": {
    "tags": []
   },
   "outputs": [
    {
     "data": {
      "text/plain": [
       "array([0.5, 0.5])"
      ]
     },
     "execution_count": 42,
     "metadata": {},
     "output_type": "execute_result"
    }
   ],
   "source": [
    "# Heads is the element at index 0 of the array, tails is at index 1\n",
    "coin_model_probabilities = make_array(.5,.5)\n",
    "coin_model_probabilities"
   ]
  },
  {
   "cell_type": "code",
   "execution_count": 43,
   "id": "19b315c4",
   "metadata": {
    "deletable": false,
    "editable": false
   },
   "outputs": [
    {
     "data": {
      "text/html": [
       "<p><strong><pre style='display: inline;'>q5.1</pre></strong> passed!</p>"
      ],
      "text/plain": [
       "q5.1 results: All test cases passed!"
      ]
     },
     "execution_count": 43,
     "metadata": {},
     "output_type": "execute_result"
    }
   ],
   "source": [
    "grader.check(\"q5.1\")"
   ]
  },
  {
   "cell_type": "markdown",
   "id": "960b0653",
   "metadata": {},
   "source": [
    "**Question 5.2** We believe Gary's model is incorrect. In particular, we believe there to be a smaller chance of heads. Which of the following statistics can we use during our simulation to test between his model and our alternative? Assign `statistic_choice` to the correct answer. \n",
    "\n",
    "1. The distance (absolute value) between the actual number of heads in 10 flips and the expected number of heads in 10 flips (5)\n",
    "2. The expected number of heads in 10 flips\n",
    "3. The actual number of heads we get in 10 flips\n",
    "\n"
   ]
  },
  {
   "cell_type": "code",
   "execution_count": 44,
   "id": "f3eca541",
   "metadata": {
    "tags": []
   },
   "outputs": [
    {
     "data": {
      "text/plain": [
       "3"
      ]
     },
     "execution_count": 44,
     "metadata": {},
     "output_type": "execute_result"
    }
   ],
   "source": [
    "statistic_choice = 3\n",
    "statistic_choice"
   ]
  },
  {
   "cell_type": "code",
   "execution_count": 45,
   "id": "8e5847f7",
   "metadata": {
    "deletable": false,
    "editable": false
   },
   "outputs": [
    {
     "data": {
      "text/html": [
       "<p><strong><pre style='display: inline;'>q5.2</pre></strong> passed!</p>"
      ],
      "text/plain": [
       "q5.2 results: All test cases passed!"
      ]
     },
     "execution_count": 45,
     "metadata": {},
     "output_type": "execute_result"
    }
   ],
   "source": [
    "grader.check(\"q5.2\")"
   ]
  },
  {
   "cell_type": "markdown",
   "id": "dbe99a2f",
   "metadata": {},
   "source": [
    "**Question 5.3** Define the function `coin_simulation_and_statistic`, which, given a sample size and an array of model proportions (like the one you created in Q1), returns the number of heads in one simulation of flipping the coin under the model specified in `model_proportions`. \n",
    "\n",
    "*Hint:* Think about how you can use the function `sample_proportions`. See: http://data8.org/datascience/util.html?highlight=sample_proportions"
   ]
  },
  {
   "cell_type": "code",
   "execution_count": 47,
   "id": "b2a5d551",
   "metadata": {
    "tags": []
   },
   "outputs": [
    {
     "data": {
      "text/plain": [
       "7.0"
      ]
     },
     "execution_count": 47,
     "metadata": {},
     "output_type": "execute_result"
    }
   ],
   "source": [
    "def coin_simulation_and_statistic(sample_size, model_proportions):\n",
    "    '''\n",
    "    sample_size: an int representing how many trials are run\n",
    "    model_proportions: an array of two floats representing the probabilities of heads and tails.\n",
    "                       heads is at index 0 tails is at index 1\n",
    "    '''\n",
    "    \n",
    "    return (sample_proportions(sample_size, model_proportions).item(0)) * sample_size\n",
    "\n",
    "\n",
    "coin_simulation_and_statistic(10, coin_model_probabilities)"
   ]
  },
  {
   "cell_type": "code",
   "execution_count": 48,
   "id": "1982faa8",
   "metadata": {
    "deletable": false,
    "editable": false
   },
   "outputs": [
    {
     "data": {
      "text/html": [
       "<p><strong><pre style='display: inline;'>q5.3</pre></strong> passed!</p>"
      ],
      "text/plain": [
       "q5.3 results: All test cases passed!"
      ]
     },
     "execution_count": 48,
     "metadata": {},
     "output_type": "execute_result"
    }
   ],
   "source": [
    "grader.check(\"q5.3\")"
   ]
  },
  {
   "cell_type": "markdown",
   "id": "95d903b9",
   "metadata": {},
   "source": [
    "**Question 5.4** Use your function from above to simulate the flipping of 10 coins 5000 times under the proportions that you specified in problem 1. Keep track of all of your statistics in an array `coin_statistics`. "
   ]
  },
  {
   "cell_type": "code",
   "execution_count": 49,
   "id": "47ea5164",
   "metadata": {
    "tags": []
   },
   "outputs": [
    {
     "data": {
      "text/plain": [
       "array([3., 7., 2., ..., 4., 3., 7.])"
      ]
     },
     "execution_count": 49,
     "metadata": {},
     "output_type": "execute_result"
    }
   ],
   "source": [
    "coin_statistics = make_array()\n",
    "repetitions = 5000\n",
    "for _ in range(repetitions):\n",
    "    coin_statistics = np.append(coin_statistics, coin_simulation_and_statistic(10, coin_model_probabilities))\n",
    "coin_statistics"
   ]
  },
  {
   "cell_type": "code",
   "execution_count": 50,
   "id": "cc205df3",
   "metadata": {
    "deletable": false,
    "editable": false
   },
   "outputs": [
    {
     "data": {
      "text/html": [
       "<p><strong><pre style='display: inline;'>q5.4</pre></strong> passed!</p>"
      ],
      "text/plain": [
       "q5.4 results: All test cases passed!"
      ]
     },
     "execution_count": 50,
     "metadata": {},
     "output_type": "execute_result"
    }
   ],
   "source": [
    "grader.check(\"q5.4\")"
   ]
  },
  {
   "cell_type": "markdown",
   "id": "6094cbf4",
   "metadata": {},
   "source": [
    "Let's take a look at the distribution of statistics, using a histogram. "
   ]
  },
  {
   "cell_type": "code",
   "execution_count": null,
   "id": "d279d877",
   "metadata": {},
   "outputs": [],
   "source": [
    "#Draw a distribution of statistics \n",
    "Table().with_column('Coin Statistics', coin_statistics).hist(bins=np.arange(0,11))"
   ]
  },
  {
   "cell_type": "markdown",
   "id": "86f5248c",
   "metadata": {
    "tags": []
   },
   "source": [
    "**Question 5.5** Given your observed value, do you believe that Gary's model is reasonable, or is our alternative more likely? Explain your answer using the distribution drawn in the previous problem. "
   ]
  },
  {
   "cell_type": "markdown",
   "id": "e7314338",
   "metadata": {},
   "source": [
    "The histogram shows that the odds of getting 1/10 heads is very low, so his model is not reasonable."
   ]
  },
  {
   "cell_type": "markdown",
   "id": "d8519072",
   "metadata": {},
   "source": [
    "<!-- END QUESTION -->\n",
    "\n"
   ]
  },
  {
   "cell_type": "markdown",
   "id": "b7ad7944",
   "metadata": {
    "deletable": false,
    "editable": false
   },
   "source": [
    "---\n",
    "\n",
    "To double-check your work, the cell below will rerun all of the autograder tests."
   ]
  },
  {
   "cell_type": "code",
   "execution_count": 58,
   "id": "83206e41",
   "metadata": {
    "deletable": false,
    "editable": false
   },
   "outputs": [
    {
     "data": {
      "text/plain": [
       "q1.1 results: All test cases passed!\n",
       "\n",
       "q1.2 results: All test cases passed!\n",
       "\n",
       "q1.3 results: All test cases passed!\n",
       "\n",
       "q1.4 results: All test cases passed!\n",
       "\n",
       "q2.1 results: All test cases passed!\n",
       "\n",
       "q2.2 results: All test cases passed!\n",
       "\n",
       "q2.3 results: All test cases passed!\n",
       "\n",
       "q2.4 results: All test cases passed!\n",
       "\n",
       "q2.6 results: All test cases passed!\n",
       "\n",
       "q4.2 results: All test cases passed!\n",
       "\n",
       "q4.3 results: All test cases passed!\n",
       "\n",
       "q4.4 results: All test cases passed!\n",
       "\n",
       "q5.1 results: All test cases passed!\n",
       "\n",
       "q5.2 results: All test cases passed!\n",
       "\n",
       "q5.3 results: All test cases passed!\n",
       "\n",
       "q5.4 results: All test cases passed!"
      ]
     },
     "execution_count": 58,
     "metadata": {},
     "output_type": "execute_result"
    }
   ],
   "source": [
    "grader.check_all()"
   ]
  },
  {
   "cell_type": "code",
   "execution_count": null,
   "id": "ca97e6c5",
   "metadata": {},
   "outputs": [],
   "source": []
  }
 ],
 "metadata": {
  "kernelspec": {
   "display_name": "Python 3 (ipykernel)",
   "language": "python",
   "name": "python3"
  },
  "language_info": {
   "codemirror_mode": {
    "name": "ipython",
    "version": 3
   },
   "file_extension": ".py",
   "mimetype": "text/x-python",
   "name": "python",
   "nbconvert_exporter": "python",
   "pygments_lexer": "ipython3",
   "version": "3.9.7"
  },
  "otter": {
   "tests": {
    "q1.1": {
     "name": "q1.1",
     "points": 1,
     "suites": [
      {
       "cases": [
        {
         "code": ">>> assert 1<=int(ten_sixes)<=3\n",
         "failure_message": "You must enter an integer between 1-3",
         "hidden": false,
         "locked": false
        }
       ],
       "scored": true,
       "setup": "",
       "teardown": "",
       "type": "doctest"
      }
     ]
    },
    "q1.2": {
     "name": "q1.2",
     "points": 1,
     "suites": [
      {
       "cases": [
        {
         "code": ">>> assert 1<=int(five_or_less)<=3\n",
         "failure_message": "You must enter an integer between 1-3",
         "hidden": false,
         "locked": false
        }
       ],
       "scored": true,
       "setup": "",
       "teardown": "",
       "type": "doctest"
      }
     ]
    },
    "q1.3": {
     "name": "q1.3",
     "points": 1,
     "suites": [
      {
       "cases": [
        {
         "code": ">>> assert 1<=int(lottery)<=3\n",
         "failure_message": "You must enter an integer between 1-3",
         "hidden": false,
         "locked": false
        }
       ],
       "scored": true,
       "setup": "",
       "teardown": "",
       "type": "doctest"
      }
     ]
    },
    "q1.4": {
     "name": "q1.4",
     "points": 1,
     "suites": [
      {
       "cases": [
        {
         "code": ">>> assert 1<=int(list_chances)<=3\n",
         "failure_message": "You must enter an integer between 1-3",
         "hidden": false,
         "locked": false
        }
       ],
       "scored": true,
       "setup": "",
       "teardown": "",
       "type": "doctest"
      }
     ]
    },
    "q2.1": {
     "name": "q2.1",
     "points": 1,
     "suites": [
      {
       "cases": [
        {
         "code": ">>> assert 0<=float(datascience_chance)<=1\n",
         "failure_message": "Your answer should be a probability between 0-1",
         "hidden": false,
         "locked": false
        }
       ],
       "scored": true,
       "setup": "",
       "teardown": "",
       "type": "doctest"
      }
     ]
    },
    "q2.2": {
     "name": "q2.2",
     "points": 1,
     "suites": [
      {
       "cases": [
        {
         "code": ">>> assert len(simulate_key_strike()) == 1\n",
         "failure_message": "Are you generating 1 random character?",
         "hidden": false,
         "locked": false
        },
        {
         "code": ">>> assert 26 >= len(np.unique([simulate_key_strike() for i in range(500)])) >= 20\n",
         "failure_message": "It looks like your simulation doesn't use all the letters",
         "hidden": false,
         "locked": false
        }
       ],
       "scored": true,
       "setup": "",
       "teardown": "",
       "type": "doctest"
      }
     ]
    },
    "q2.3": {
     "name": "q2.3",
     "points": 1,
     "suites": [
      {
       "cases": [
        {
         "code": ">>> assert len(simulate_several_key_strikes(15)) == 15 and isinstance(simulate_several_key_strikes(15), str)\n",
         "failure_message": "are you generating num_strikes many characters? and returning a string?",
         "hidden": false,
         "locked": false
        },
        {
         "code": ">>> \n>>> assert 26 >= len(np.unique(list(simulate_several_key_strikes(500)))) >= 20\n",
         "failure_message": "It looks like your simulation doesn't use all the letters",
         "hidden": false,
         "locked": false
        }
       ],
       "scored": true,
       "setup": "",
       "teardown": "",
       "type": "doctest"
      }
     ]
    },
    "q2.4": {
     "name": "q2.4",
     "points": 1,
     "suites": [
      {
       "cases": [
        {
         "code": ">>> assert float(datascience_proportion) == 0.0\n",
         "failure_message": "There's a chance you just hit a 1 in a quadrillion chance",
         "hidden": false,
         "locked": false
        }
       ],
       "scored": true,
       "setup": "",
       "teardown": "",
       "type": "doctest"
      }
     ]
    },
    "q2.6": {
     "name": "q2.6",
     "points": 1,
     "suites": [
      {
       "cases": [
        {
         "code": ">>> assert 0<=float(e_chance)<=1\n",
         "failure_message": "This should be a probability 0-1",
         "hidden": false,
         "locked": false
        }
       ],
       "scored": true,
       "setup": "",
       "teardown": "",
       "type": "doctest"
      }
     ]
    },
    "q4.2": {
     "name": "q4.2",
     "points": 1,
     "suites": [
      {
       "cases": [
        {
         "code": ">>> assert representative_sample.num_rows == 500\n",
         "failure_message": "The sample should be of size 500.",
         "hidden": false,
         "locked": false
        },
        {
         "code": ">>> assert representative_sample.num_columns == 3\n",
         "failure_message": "Your sample should have the same columns as the original table",
         "hidden": false,
         "locked": false
        },
        {
         "code": ">>> assert float(representative_mean) < float(max(representative_sample.column('mag'))) and float(representative_mean) > float(min(representative_sample.column('mag')))\n",
         "failure_message": "The mean can't be bigger than the biggest magnitude, or smaller than the smallest",
         "hidden": false,
         "locked": false
        }
       ],
       "scored": true,
       "setup": "",
       "teardown": "",
       "type": "doctest"
      }
     ]
    },
    "q4.3": {
     "name": "q4.3",
     "points": 1,
     "suites": [
      {
       "cases": [
        {
         "code": ">>> assert len(maximums) == 5000\n",
         "failure_message": "maximums should be an array of 5000 values",
         "hidden": false,
         "locked": false
        },
        {
         "code": ">>> assert max(maximums) <= max(earthquakes.column('mag'))\n",
         "failure_message": "The biggest simulated maximum can't be bigger than the actual maximum!",
         "hidden": false,
         "locked": false
        }
       ],
       "scored": true,
       "setup": "",
       "teardown": "",
       "type": "doctest"
      }
     ]
    },
    "q4.4": {
     "name": "q4.4",
     "points": 1,
     "suites": [
      {
       "cases": [
        {
         "code": ">>> assert float(strongest_earthquake_magnitude) > 8.00001\n",
         "failure_message": "This should be a single float",
         "hidden": false,
         "locked": false
        }
       ],
       "scored": true,
       "setup": "",
       "teardown": "",
       "type": "doctest"
      }
     ]
    },
    "q5.1": {
     "name": "q5.1",
     "points": 1,
     "suites": [
      {
       "cases": [
        {
         "code": ">>> assert len(coin_model_probabilities) == 2 and sum(coin_model_probabilities)\n",
         "failure_message": "There should be 2 probabilities that sum to one ",
         "hidden": false,
         "locked": false
        }
       ],
       "scored": true,
       "setup": "",
       "teardown": "",
       "type": "doctest"
      }
     ]
    },
    "q5.2": {
     "name": "q5.2",
     "points": 1,
     "suites": [
      {
       "cases": [
        {
         "code": ">>> assert  1<=statistic_choice<=3\n",
         "failure_message": "This should be between 1 and 3",
         "hidden": false,
         "locked": false
        }
       ],
       "scored": true,
       "setup": "",
       "teardown": "",
       "type": "doctest"
      }
     ]
    },
    "q5.3": {
     "name": "q5.3",
     "points": 1,
     "suites": [
      {
       "cases": [
        {
         "code": ">>> for i in range(20):\n...     num_heads = coin_simulation_and_statistic(10, make_array(.5,.5))\n...     assert 0 <= num_heads <= 10\n",
         "failure_message": "coin_simulation_and_statistic should always return between 0-10",
         "hidden": false,
         "locked": false
        }
       ],
       "scored": true,
       "setup": "",
       "teardown": "",
       "type": "doctest"
      }
     ]
    },
    "q5.4": {
     "name": "q5.4",
     "points": 1,
     "suites": [
      {
       "cases": [
        {
         "code": ">>> assert len(coin_statistics) == 5000\n>>> assert all([ 0<= k <= 10 for k in coin_statistics])\n",
         "hidden": false,
         "locked": false
        }
       ],
       "scored": true,
       "setup": "",
       "teardown": "",
       "type": "doctest"
      }
     ]
    }
   }
  }
 },
 "nbformat": 4,
 "nbformat_minor": 5
}
