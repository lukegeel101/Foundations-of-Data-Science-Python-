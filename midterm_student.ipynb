{
 "cells": [
  {
   "cell_type": "code",
   "execution_count": 36,
   "id": "c1b40666-93df-44da-83f3-80f9d31f8d9c",
   "metadata": {},
   "outputs": [
    {
     "name": "stdout",
     "output_type": "stream",
     "text": [
      "Requirement already satisfied: datascience in /opt/conda/lib/python3.9/site-packages (0.17.0)\n",
      "Requirement already satisfied: scipy in /opt/conda/lib/python3.9/site-packages (from datascience) (1.7.2)\n",
      "Requirement already satisfied: folium>=0.9.1 in /opt/conda/lib/python3.9/site-packages (from datascience) (0.12.1)\n",
      "Requirement already satisfied: coverage in /opt/conda/lib/python3.9/site-packages (from datascience) (6.4.4)\n",
      "Requirement already satisfied: branca in /opt/conda/lib/python3.9/site-packages (from datascience) (0.5.0)\n",
      "Requirement already satisfied: nbsphinx in /opt/conda/lib/python3.9/site-packages (from datascience) (0.8.9)\n",
      "Requirement already satisfied: pytest in /opt/conda/lib/python3.9/site-packages (from datascience) (7.1.2)\n",
      "Requirement already satisfied: bokeh in /opt/conda/lib/python3.9/site-packages (from datascience) (2.4.1)\n",
      "Requirement already satisfied: setuptools in /opt/conda/lib/python3.9/site-packages (from datascience) (59.2.0)\n",
      "Requirement already satisfied: pandas in /opt/conda/lib/python3.9/site-packages (from datascience) (1.3.4)\n",
      "Requirement already satisfied: matplotlib>=3.0.0 in /opt/conda/lib/python3.9/site-packages (from datascience) (3.5.0)\n",
      "Requirement already satisfied: numpy in /opt/conda/lib/python3.9/site-packages (from datascience) (1.20.3)\n",
      "Requirement already satisfied: ipython in /opt/conda/lib/python3.9/site-packages (from datascience) (7.29.0)\n",
      "Requirement already satisfied: coveralls in /opt/conda/lib/python3.9/site-packages (from datascience) (3.3.1)\n",
      "Requirement already satisfied: sphinx in /opt/conda/lib/python3.9/site-packages (from datascience) (5.1.1)\n",
      "Requirement already satisfied: plotly in /opt/conda/lib/python3.9/site-packages (from datascience) (5.10.0)\n",
      "Requirement already satisfied: requests in /opt/conda/lib/python3.9/site-packages (from folium>=0.9.1->datascience) (2.26.0)\n",
      "Requirement already satisfied: jinja2>=2.9 in /opt/conda/lib/python3.9/site-packages (from folium>=0.9.1->datascience) (3.0.3)\n",
      "Requirement already satisfied: python-dateutil>=2.7 in /opt/conda/lib/python3.9/site-packages (from matplotlib>=3.0.0->datascience) (2.8.2)\n",
      "Requirement already satisfied: pillow>=6.2.0 in /opt/conda/lib/python3.9/site-packages (from matplotlib>=3.0.0->datascience) (8.4.0)\n",
      "Requirement already satisfied: kiwisolver>=1.0.1 in /opt/conda/lib/python3.9/site-packages (from matplotlib>=3.0.0->datascience) (1.3.2)\n",
      "Requirement already satisfied: pyparsing>=2.2.1 in /opt/conda/lib/python3.9/site-packages (from matplotlib>=3.0.0->datascience) (3.0.6)\n",
      "Requirement already satisfied: fonttools>=4.22.0 in /opt/conda/lib/python3.9/site-packages (from matplotlib>=3.0.0->datascience) (4.28.1)\n",
      "Requirement already satisfied: cycler>=0.10 in /opt/conda/lib/python3.9/site-packages (from matplotlib>=3.0.0->datascience) (0.11.0)\n",
      "Requirement already satisfied: packaging>=20.0 in /opt/conda/lib/python3.9/site-packages (from matplotlib>=3.0.0->datascience) (21.3)\n",
      "Requirement already satisfied: tornado>=5.1 in /opt/conda/lib/python3.9/site-packages (from bokeh->datascience) (6.1)\n",
      "Requirement already satisfied: typing-extensions>=3.10.0 in /opt/conda/lib/python3.9/site-packages (from bokeh->datascience) (4.3.0)\n",
      "Requirement already satisfied: PyYAML>=3.10 in /opt/conda/lib/python3.9/site-packages (from bokeh->datascience) (6.0)\n",
      "Requirement already satisfied: docopt>=0.6.1 in /opt/conda/lib/python3.9/site-packages (from coveralls->datascience) (0.6.2)\n",
      "Requirement already satisfied: pygments in /opt/conda/lib/python3.9/site-packages (from ipython->datascience) (2.10.0)\n",
      "Requirement already satisfied: backcall in /opt/conda/lib/python3.9/site-packages (from ipython->datascience) (0.2.0)\n",
      "Requirement already satisfied: pickleshare in /opt/conda/lib/python3.9/site-packages (from ipython->datascience) (0.7.5)\n",
      "Requirement already satisfied: pexpect>4.3 in /opt/conda/lib/python3.9/site-packages (from ipython->datascience) (4.8.0)\n",
      "Requirement already satisfied: jedi>=0.16 in /opt/conda/lib/python3.9/site-packages (from ipython->datascience) (0.18.1)\n",
      "Requirement already satisfied: prompt-toolkit!=3.0.0,!=3.0.1,<3.1.0,>=2.0.0 in /opt/conda/lib/python3.9/site-packages (from ipython->datascience) (3.0.22)\n",
      "Requirement already satisfied: traitlets>=4.2 in /opt/conda/lib/python3.9/site-packages (from ipython->datascience) (5.1.1)\n",
      "Requirement already satisfied: matplotlib-inline in /opt/conda/lib/python3.9/site-packages (from ipython->datascience) (0.1.3)\n",
      "Requirement already satisfied: decorator in /opt/conda/lib/python3.9/site-packages (from ipython->datascience) (5.1.0)\n",
      "Requirement already satisfied: nbconvert!=5.4 in /opt/conda/lib/python3.9/site-packages (from nbsphinx->datascience) (6.3.0)\n",
      "Requirement already satisfied: nbformat in /opt/conda/lib/python3.9/site-packages (from nbsphinx->datascience) (5.1.3)\n",
      "Requirement already satisfied: docutils in /opt/conda/lib/python3.9/site-packages (from nbsphinx->datascience) (0.19)\n",
      "Requirement already satisfied: babel>=1.3 in /opt/conda/lib/python3.9/site-packages (from sphinx->datascience) (2.9.1)\n",
      "Requirement already satisfied: sphinxcontrib-jsmath in /opt/conda/lib/python3.9/site-packages (from sphinx->datascience) (1.0.1)\n",
      "Requirement already satisfied: snowballstemmer>=1.1 in /opt/conda/lib/python3.9/site-packages (from sphinx->datascience) (2.2.0)\n",
      "Requirement already satisfied: imagesize in /opt/conda/lib/python3.9/site-packages (from sphinx->datascience) (1.4.1)\n",
      "Requirement already satisfied: importlib-metadata>=4.4 in /opt/conda/lib/python3.9/site-packages (from sphinx->datascience) (4.8.2)\n",
      "Requirement already satisfied: sphinxcontrib-devhelp in /opt/conda/lib/python3.9/site-packages (from sphinx->datascience) (1.0.2)\n",
      "Requirement already satisfied: sphinxcontrib-serializinghtml>=1.1.5 in /opt/conda/lib/python3.9/site-packages (from sphinx->datascience) (1.1.5)\n",
      "Requirement already satisfied: sphinxcontrib-htmlhelp>=2.0.0 in /opt/conda/lib/python3.9/site-packages (from sphinx->datascience) (2.0.0)\n",
      "Requirement already satisfied: sphinxcontrib-applehelp in /opt/conda/lib/python3.9/site-packages (from sphinx->datascience) (1.0.2)\n",
      "Requirement already satisfied: alabaster<0.8,>=0.7 in /opt/conda/lib/python3.9/site-packages (from sphinx->datascience) (0.7.12)\n",
      "Requirement already satisfied: sphinxcontrib-qthelp in /opt/conda/lib/python3.9/site-packages (from sphinx->datascience) (1.0.3)\n",
      "Requirement already satisfied: pytz>=2017.3 in /opt/conda/lib/python3.9/site-packages (from pandas->datascience) (2021.3)\n",
      "Requirement already satisfied: tenacity>=6.2.0 in /opt/conda/lib/python3.9/site-packages (from plotly->datascience) (8.0.1)\n",
      "Requirement already satisfied: pluggy<2.0,>=0.12 in /opt/conda/lib/python3.9/site-packages (from pytest->datascience) (1.0.0)\n",
      "Requirement already satisfied: attrs>=19.2.0 in /opt/conda/lib/python3.9/site-packages (from pytest->datascience) (21.2.0)\n",
      "Requirement already satisfied: py>=1.8.2 in /opt/conda/lib/python3.9/site-packages (from pytest->datascience) (1.11.0)\n",
      "Requirement already satisfied: iniconfig in /opt/conda/lib/python3.9/site-packages (from pytest->datascience) (1.1.1)\n",
      "Requirement already satisfied: tomli>=1.0.0 in /opt/conda/lib/python3.9/site-packages (from pytest->datascience) (2.0.1)\n",
      "Requirement already satisfied: zipp>=0.5 in /opt/conda/lib/python3.9/site-packages (from importlib-metadata>=4.4->sphinx->datascience) (3.6.0)\n",
      "Requirement already satisfied: parso<0.9.0,>=0.8.0 in /opt/conda/lib/python3.9/site-packages (from jedi>=0.16->ipython->datascience) (0.8.2)\n",
      "Requirement already satisfied: MarkupSafe>=2.0 in /opt/conda/lib/python3.9/site-packages (from jinja2>=2.9->folium>=0.9.1->datascience) (2.0.1)\n",
      "Requirement already satisfied: pandocfilters>=1.4.1 in /opt/conda/lib/python3.9/site-packages (from nbconvert!=5.4->nbsphinx->datascience) (1.5.0)\n",
      "Requirement already satisfied: mistune<2,>=0.8.1 in /opt/conda/lib/python3.9/site-packages (from nbconvert!=5.4->nbsphinx->datascience) (0.8.4)\n",
      "Requirement already satisfied: defusedxml in /opt/conda/lib/python3.9/site-packages (from nbconvert!=5.4->nbsphinx->datascience) (0.7.1)\n",
      "Requirement already satisfied: jupyterlab-pygments in /opt/conda/lib/python3.9/site-packages (from nbconvert!=5.4->nbsphinx->datascience) (0.1.2)\n",
      "Requirement already satisfied: bleach in /opt/conda/lib/python3.9/site-packages (from nbconvert!=5.4->nbsphinx->datascience) (4.1.0)\n",
      "Requirement already satisfied: jupyter-core in /opt/conda/lib/python3.9/site-packages (from nbconvert!=5.4->nbsphinx->datascience) (4.9.1)\n",
      "Requirement already satisfied: testpath in /opt/conda/lib/python3.9/site-packages (from nbconvert!=5.4->nbsphinx->datascience) (0.5.0)\n",
      "Requirement already satisfied: entrypoints>=0.2.2 in /opt/conda/lib/python3.9/site-packages (from nbconvert!=5.4->nbsphinx->datascience) (0.3)\n",
      "Requirement already satisfied: nbclient<0.6.0,>=0.5.0 in /opt/conda/lib/python3.9/site-packages (from nbconvert!=5.4->nbsphinx->datascience) (0.5.9)\n",
      "Requirement already satisfied: jsonschema!=2.5.0,>=2.4 in /opt/conda/lib/python3.9/site-packages (from nbformat->nbsphinx->datascience) (4.2.1)\n",
      "Requirement already satisfied: ipython-genutils in /opt/conda/lib/python3.9/site-packages (from nbformat->nbsphinx->datascience) (0.2.0)\n",
      "Requirement already satisfied: ptyprocess>=0.5 in /opt/conda/lib/python3.9/site-packages (from pexpect>4.3->ipython->datascience) (0.7.0)\n",
      "Requirement already satisfied: wcwidth in /opt/conda/lib/python3.9/site-packages (from prompt-toolkit!=3.0.0,!=3.0.1,<3.1.0,>=2.0.0->ipython->datascience) (0.2.5)\n",
      "Requirement already satisfied: six>=1.5 in /opt/conda/lib/python3.9/site-packages (from python-dateutil>=2.7->matplotlib>=3.0.0->datascience) (1.16.0)\n",
      "Requirement already satisfied: charset-normalizer~=2.0.0 in /opt/conda/lib/python3.9/site-packages (from requests->folium>=0.9.1->datascience) (2.0.0)\n",
      "Requirement already satisfied: idna<4,>=2.5 in /opt/conda/lib/python3.9/site-packages (from requests->folium>=0.9.1->datascience) (3.1)\n",
      "Requirement already satisfied: certifi>=2017.4.17 in /opt/conda/lib/python3.9/site-packages (from requests->folium>=0.9.1->datascience) (2021.10.8)\n",
      "Requirement already satisfied: urllib3<1.27,>=1.21.1 in /opt/conda/lib/python3.9/site-packages (from requests->folium>=0.9.1->datascience) (1.26.7)\n",
      "Requirement already satisfied: pyrsistent!=0.17.0,!=0.17.1,!=0.17.2,>=0.14.0 in /opt/conda/lib/python3.9/site-packages (from jsonschema!=2.5.0,>=2.4->nbformat->nbsphinx->datascience) (0.18.0)\n",
      "Requirement already satisfied: jupyter-client>=6.1.5 in /opt/conda/lib/python3.9/site-packages (from nbclient<0.6.0,>=0.5.0->nbconvert!=5.4->nbsphinx->datascience) (7.0.6)\n",
      "Requirement already satisfied: nest-asyncio in /opt/conda/lib/python3.9/site-packages (from nbclient<0.6.0,>=0.5.0->nbconvert!=5.4->nbsphinx->datascience) (1.5.1)\n",
      "Requirement already satisfied: webencodings in /opt/conda/lib/python3.9/site-packages (from bleach->nbconvert!=5.4->nbsphinx->datascience) (0.5.1)\n",
      "Requirement already satisfied: pyzmq>=13 in /opt/conda/lib/python3.9/site-packages (from jupyter-client>=6.1.5->nbclient<0.6.0,>=0.5.0->nbconvert!=5.4->nbsphinx->datascience) (22.3.0)\n"
     ]
    }
   ],
   "source": [
    "!pip install datascience"
   ]
  },
  {
   "cell_type": "code",
   "execution_count": 37,
   "id": "a7654352-276b-47a1-99ec-c24d5d56ae7e",
   "metadata": {
    "scrolled": true,
    "tags": []
   },
   "outputs": [],
   "source": [
    "import numpy as np\n",
    "from datascience import *\n",
    "\n",
    "# These lines set up graphing capabilities.\n",
    "import matplotlib\n",
    "%matplotlib inline\n",
    "import matplotlib.pyplot as plt\n",
    "plt.style.use('fivethirtyeight')\n",
    "import warnings\n",
    "warnings.simplefilter('ignore', FutureWarning)"
   ]
  },
  {
   "cell_type": "markdown",
   "id": "e0a0b11a-29cb-4565-ab61-1b4e7cfc338e",
   "metadata": {},
   "source": [
    "## Instructions\n",
    "This exam has a 2 hour time limit with no extra uploading time. Upon completion you must have submitted a .ipynb notebook to the Gradescope.  \n",
    "\n",
    "  \n",
    "\n",
    "You may consult any course material and documentation. **All the work in the notebook must be entirely your own** under no circumstances may you communicate with any classmates.  \n",
    "\n",
    "\n",
    "\n",
    "This exam is scored out of 170 and scaled to account for difficulty. **Leave comments describing your reasoning if you think your work on a question may be eligible for partial credit**"
   ]
  },
  {
   "cell_type": "markdown",
   "id": "dc947e45-98a0-40b6-b9b7-e2ba372749d3",
   "metadata": {
    "tags": []
   },
   "source": [
    "## 1. Answer the following questions"
   ]
  },
  {
   "cell_type": "markdown",
   "id": "758871b0-3927-4b57-9670-765304cc1bc9",
   "metadata": {},
   "source": [
    "**Question 1.1: 10 Points** Write a Python expression in this next cell that's equal to $2 \\times 3 \\times (\\frac{10}{11}) - 50 \\times \\frac{1}{3}$"
   ]
  },
  {
   "cell_type": "code",
   "execution_count": 38,
   "id": "a2d0f46c-bf1f-45de-addb-a9bd0d2c8102",
   "metadata": {
    "tags": []
   },
   "outputs": [
    {
     "data": {
      "text/plain": [
       "-11.212121212121211"
      ]
     },
     "execution_count": 38,
     "metadata": {},
     "output_type": "execute_result"
    }
   ],
   "source": [
    "equation = 2 * 3 * (10/11) - 50 * (1/3)\n",
    "equation"
   ]
  },
  {
   "cell_type": "markdown",
   "id": "b9e11933-60eb-4766-926f-029cb7222894",
   "metadata": {},
   "source": [
    "**Question 1.2: 10 Points** Make an array with 3 different strings. (DO NOT USE `[]`)"
   ]
  },
  {
   "cell_type": "code",
   "execution_count": 39,
   "id": "0da5b4d6-d728-40b8-86a7-d8c4777e0545",
   "metadata": {
    "tags": []
   },
   "outputs": [
    {
     "data": {
      "text/plain": [
       "array(['print', 'hello', 'world'], dtype='<U5')"
      ]
     },
     "execution_count": 39,
     "metadata": {},
     "output_type": "execute_result"
    }
   ],
   "source": [
    "string_array = make_array('print','hello','world')\n",
    "string_array"
   ]
  },
  {
   "cell_type": "markdown",
   "id": "85d012fc-77b5-47a8-bcaa-2cc78668baff",
   "metadata": {},
   "source": [
    "**Question 1.3: 10 Points** Write a comment in the cell below. (Don't over think this the code shouldn't do anything)"
   ]
  },
  {
   "cell_type": "code",
   "execution_count": 40,
   "id": "50eaa837-514a-4189-8c56-bb84d2b2b0d8",
   "metadata": {
    "tags": []
   },
   "outputs": [],
   "source": [
    "#comment"
   ]
  },
  {
   "cell_type": "markdown",
   "id": "a2f788bf-2e89-4c16-b52b-1c1effbb7835",
   "metadata": {},
   "source": [
    "**Question 1.4: 10 Points** Find the maximum of the given array. *If you just set arr_max to an integer instead of using a function call you will not get credit*"
   ]
  },
  {
   "cell_type": "raw",
   "id": "ab06eefb-49a7-47fa-bf75-9ba1c244fc0d",
   "metadata": {
    "tags": []
   },
   "source": [
    "# BEGIN QUESTION\n",
    "name: q1.4\n",
    "manual: true"
   ]
  },
  {
   "cell_type": "code",
   "execution_count": 41,
   "id": "622d0015-88f1-4b4e-8ac5-f17bf1714a2d",
   "metadata": {
    "tags": []
   },
   "outputs": [
    {
     "data": {
      "text/plain": [
       "9"
      ]
     },
     "execution_count": 41,
     "metadata": {},
     "output_type": "execute_result"
    }
   ],
   "source": [
    "int_arr = make_array(5,6,7,2,3,5,6,9)\n",
    "arr_max = max(int_arr)\n",
    "arr_max"
   ]
  },
  {
   "cell_type": "markdown",
   "id": "d8b3b954-e5c0-4666-88e2-5e29aa798a99",
   "metadata": {},
   "source": [
    "**Question 1.5: 10 Points** The cell below creates an array of some numbers.  By indexing `some_numbers`, set `fourth_element` to the fourth element of `some_numbers`. *If you just set fourth_element to an integer instead of using array indexing you will not get credit*"
   ]
  },
  {
   "cell_type": "code",
   "execution_count": 42,
   "id": "871e6a1d-76d4-44b8-8fec-84637e05bd3b",
   "metadata": {
    "tags": []
   },
   "outputs": [
    {
     "data": {
      "text/plain": [
       "4"
      ]
     },
     "execution_count": 42,
     "metadata": {},
     "output_type": "execute_result"
    }
   ],
   "source": [
    "some_numbers = make_array(1,2,3,4,5)\n",
    "fourth_element = some_numbers[3]\n",
    "fourth_element"
   ]
  },
  {
   "cell_type": "markdown",
   "id": "00c126d8-9e7f-452c-b11e-2f1256fd201d",
   "metadata": {
    "tags": []
   },
   "source": [
    "## 2. Complete the following functions:"
   ]
  },
  {
   "cell_type": "markdown",
   "id": "276df40b-78fc-4ab7-a85a-6c452a1402f5",
   "metadata": {},
   "source": [
    "**Question 2.1: 10 Points** Complete the function `print_all` that prints every element of an array"
   ]
  },
  {
   "cell_type": "code",
   "execution_count": 43,
   "id": "238351fd-143c-4706-b59b-75e5127f3644",
   "metadata": {
    "tags": []
   },
   "outputs": [
    {
     "name": "stdout",
     "output_type": "stream",
     "text": [
      "0\n",
      "1\n",
      "2\n",
      "3\n",
      "4\n"
     ]
    }
   ],
   "source": [
    "def print_all(array):\n",
    "    \"\"\"\n",
    "    Given an array, print each value in that array on a separate line\n",
    "    This function should not return anything\n",
    "    \"\"\"\n",
    "    for i in array:\n",
    "        print(i)\n",
    "    \n",
    "count_up = np.arange(5)\n",
    "print_all(count_up)"
   ]
  },
  {
   "cell_type": "markdown",
   "id": "e977fd3f-35ed-4076-89ec-a95ccc7d52d3",
   "metadata": {},
   "source": [
    "**Question 2.2: 10 Points** Complete the function `hypotenuse` that computes the hypotenuse of a triangle given two sides `a` and `b`. For your reference: $h = \\sqrt{a^2+b^2} = (a^2+b^2)^{1/2}$"
   ]
  },
  {
   "cell_type": "code",
   "execution_count": 44,
   "id": "477d48c0-0a99-478c-b6e2-74561146cff6",
   "metadata": {
    "tags": []
   },
   "outputs": [
    {
     "name": "stdout",
     "output_type": "stream",
     "text": [
      "5.0\n"
     ]
    }
   ],
   "source": [
    "def hypotenuse(a, b):\n",
    "    \"\"\"\n",
    "    Given two float inputs that represent sides of a right triangle\n",
    "    Return the size of the hypotenuse\n",
    "    \"\"\"\n",
    "    return ((a**2) + (b**2))**0.5\n",
    "#Expected result: 5.0\n",
    "print(hypotenuse(3,4))"
   ]
  },
  {
   "cell_type": "markdown",
   "id": "ebe10e45-28f3-4f6b-93c5-4d2f82ebe1ca",
   "metadata": {},
   "source": [
    "**Question 2.3: 10 Points** Complete the function `most_pages` that given a table where the first column is `\"titles\"` and the second column is `\"num_pages\"` returns the title of the book with the most pages"
   ]
  },
  {
   "cell_type": "code",
   "execution_count": 45,
   "id": "46b485b8-5292-4683-9a29-0b5c692eca0a",
   "metadata": {
    "tags": []
   },
   "outputs": [
    {
     "name": "stdout",
     "output_type": "stream",
     "text": [
      "book2\n"
     ]
    }
   ],
   "source": [
    "def most_pages(table):\n",
    "    \"\"\"\n",
    "    Given a table where the first column is \"titles\" and the second column is \"num_pages\"\n",
    "    Return the title of the longest book\n",
    "    \"\"\"\n",
    "    table_by_pages = table.sort(\"num_pages\", descending=True)\n",
    "    return Table.column(table_by_pages, \"titles\").item(0)\n",
    "\n",
    "\n",
    "test = Table().with_columns([\n",
    "    \"titles\", [\"book1\", \"book2\", \"book3\"],\n",
    "    \"num_pages\", [100,2000,400]]\n",
    ")\n",
    "#Expected result: book2\n",
    "print(most_pages(test))"
   ]
  },
  {
   "cell_type": "markdown",
   "id": "c1b1fd13-d708-4837-9288-ed7a130e2e01",
   "metadata": {},
   "source": [
    "**Question 2.4: 10 Points** Complete the function `first_names` that given an array of peoples full names returns their first name. *Hint: use `.split()`*"
   ]
  },
  {
   "cell_type": "code",
   "execution_count": 46,
   "id": "2afde556-aa6d-4fd0-975d-06efd306e4f4",
   "metadata": {
    "tags": []
   },
   "outputs": [
    {
     "name": "stdout",
     "output_type": "stream",
     "text": [
      "John\n",
      "Jane\n",
      "None\n"
     ]
    }
   ],
   "source": [
    "def first_names(full_names):\n",
    "    \"\"\"\n",
    "    Given an array of people's full names ex. \"John Jacob Smith\"\n",
    "    Return an array of their first names\n",
    "    \"\"\"\n",
    "    for i in range(len(names)):\n",
    "        split_names = names[i].split()\n",
    "        i = i + 1\n",
    "        print(split_names[0])\n",
    "    \n",
    "    \n",
    "    \n",
    "\n",
    "names = make_array(\"John Jacob Smith\", \"Jane Doe\")\n",
    "#This should output ['John' 'Jane']\n",
    "print(first_names(names))"
   ]
  },
  {
   "cell_type": "markdown",
   "id": "52a20ad5-3c51-4dde-9f90-d60792237a87",
   "metadata": {
    "tags": []
   },
   "source": [
    "## 3. Cereals Dataset\n",
    "\n",
    "**Here is some information on the dataset for your reference. You will not need to use most of this**\\\n",
    "Name: Name of cereal\\\n",
    "mfr: Manufacturer of cereal\\\n",
    "    A = American Home Food Products\\\n",
    "    G = General Mills\\\n",
    "    K = Kelloggs\\\n",
    "    N = Nabisco\\\n",
    "    P = Post\\\n",
    "    Q = Quaker Oats\\\n",
    "    R = Ralston Purina\\\n",
    "type: cold, hot\\\n",
    "calories: calories per serving\\\n",
    "protein: grams of protein per serving\\\n",
    "fat: grams of fat per serving\\\n",
    "sodium: milligrams of sodium per serving\\\n",
    "fiber: grams of dietary fiber per serving\\\n",
    "carbo: grams of complex carbohydrates per serving\\\n",
    "sugars: grams of sugars per serving\\\n",
    "potass: milligrams of potassium per serving\\\n",
    "vitamins: vitamins and minerals - 0, 25, or 100, indicating the typical percentage of FDA recommended\\\n",
    "shelf: display shelf (1, 2, or 3, counting from the floor)\\\n",
    "weight: weight in ounces of one serving\\\n",
    "cups: number of cups in one serving\\\n",
    "rating: a rating of the cereals (Possibly from Consumer Reports?)"
   ]
  },
  {
   "cell_type": "code",
   "execution_count": 47,
   "id": "8ccdb00d-88ad-4324-99cb-9544fb190456",
   "metadata": {},
   "outputs": [
    {
     "data": {
      "text/html": [
       "<table border=\"1\" class=\"dataframe\">\n",
       "    <thead>\n",
       "        <tr>\n",
       "            <th>name</th> <th>mfr</th> <th>type</th> <th>calories</th> <th>protein</th> <th>fat</th> <th>sodium</th> <th>fiber</th> <th>carbo</th> <th>sugars</th> <th>potass</th> <th>vitamins</th> <th>shelf</th> <th>weight</th> <th>cups</th> <th>rating</th>\n",
       "        </tr>\n",
       "    </thead>\n",
       "    <tbody>\n",
       "        <tr>\n",
       "            <td>100% Bran                </td> <td>N   </td> <td>C   </td> <td>70      </td> <td>4      </td> <td>1   </td> <td>130   </td> <td>10   </td> <td>5    </td> <td>6     </td> <td>280   </td> <td>25      </td> <td>3    </td> <td>1     </td> <td>0.33</td> <td>68.403 </td>\n",
       "        </tr>\n",
       "        <tr>\n",
       "            <td>100% Natural Bran        </td> <td>Q   </td> <td>C   </td> <td>120     </td> <td>3      </td> <td>5   </td> <td>15    </td> <td>2    </td> <td>8    </td> <td>8     </td> <td>135   </td> <td>0       </td> <td>3    </td> <td>1     </td> <td>1   </td> <td>33.9837</td>\n",
       "        </tr>\n",
       "        <tr>\n",
       "            <td>All-Bran                 </td> <td>K   </td> <td>C   </td> <td>70      </td> <td>4      </td> <td>1   </td> <td>260   </td> <td>9    </td> <td>7    </td> <td>5     </td> <td>320   </td> <td>25      </td> <td>3    </td> <td>1     </td> <td>0.33</td> <td>59.4255</td>\n",
       "        </tr>\n",
       "        <tr>\n",
       "            <td>All-Bran with Extra Fiber</td> <td>K   </td> <td>C   </td> <td>50      </td> <td>4      </td> <td>0   </td> <td>140   </td> <td>14   </td> <td>8    </td> <td>0     </td> <td>330   </td> <td>25      </td> <td>3    </td> <td>1     </td> <td>0.5 </td> <td>93.7049</td>\n",
       "        </tr>\n",
       "        <tr>\n",
       "            <td>Almond Delight           </td> <td>R   </td> <td>C   </td> <td>110     </td> <td>2      </td> <td>2   </td> <td>200   </td> <td>1    </td> <td>14   </td> <td>8     </td> <td>-1    </td> <td>25      </td> <td>3    </td> <td>1     </td> <td>0.75</td> <td>34.3848</td>\n",
       "        </tr>\n",
       "    </tbody>\n",
       "</table>\n",
       "<p>... (72 rows omitted)</p>"
      ],
      "text/plain": [
       "<IPython.core.display.HTML object>"
      ]
     },
     "metadata": {},
     "output_type": "display_data"
    }
   ],
   "source": [
    "cereals = Table().read_table('cereal.csv')\n",
    "cereals.show(5)"
   ]
  },
  {
   "cell_type": "markdown",
   "id": "355a55a1-a828-4c80-aa70-f0a7a92a67a9",
   "metadata": {},
   "source": [
    "**Question 3.1: 10 Points** Find the average rating of all cereals. Store it in `avg_rating`"
   ]
  },
  {
   "cell_type": "code",
   "execution_count": 48,
   "id": "fd0d6b15-bb13-4260-8121-bb27e628e7ca",
   "metadata": {
    "tags": []
   },
   "outputs": [
    {
     "data": {
      "text/plain": [
       "205.32870524999998"
      ]
     },
     "execution_count": 48,
     "metadata": {},
     "output_type": "execute_result"
    }
   ],
   "source": [
    "avg_rating = sum(cereals.column(\"rating\"))/len(cereals)\n",
    "avg_rating"
   ]
  },
  {
   "cell_type": "markdown",
   "id": "2db426f5-95ac-43e4-9bba-5c5d43ba2a33",
   "metadata": {},
   "source": [
    "**Question 3.2: 10 Points** Create an array of the calories per cup for each cereal. Store it as `calories_per_cup`"
   ]
  },
  {
   "cell_type": "code",
   "execution_count": 57,
   "id": "9bf3fea7-3a17-412f-9360-9d4b4c840564",
   "metadata": {
    "tags": []
   },
   "outputs": [
    {
     "data": {
      "text/plain": [
       "array([[212.12121212, 120.        , 212.12121212, 100.        ,\n",
       "        146.66666667, 146.66666667, 110.        , 173.33333333,\n",
       "        134.32835821, 134.32835821, 160.        ,  88.        ,\n",
       "        160.        , 220.        , 110.        , 110.        ,\n",
       "        100.        , 110.        , 110.        , 220.        ,\n",
       "        100.        , 110.        , 133.33333333, 133.33333333,\n",
       "        110.        , 146.66666667, 125.        , 179.10447761,\n",
       "        179.10447761, 146.66666667, 113.63636364, 146.66666667,\n",
       "        113.63636364, 440.        , 363.63636364, 120.        ,\n",
       "        146.66666667,  82.70676692, 110.        , 186.66666667,\n",
       "         73.33333333, 149.25373134, 110.        , 100.        ,\n",
       "        150.        , 150.        , 238.80597015, 100.        ,\n",
       "        179.10447761, 208.95522388,  90.        , 260.        ,\n",
       "        179.10447761, 100.        ,  50.        ,  50.        ,\n",
       "        200.        , 149.25373134, 160.        , 200.        ,\n",
       "        180.        ,  97.34513274, 110.        ,  80.        ,\n",
       "        134.32835821, 134.32835821, 146.66666667, 110.        ,\n",
       "         90.        , 110.        , 140.        , 100.        ,\n",
       "        146.66666667, 110.        , 149.25373134, 100.        ,\n",
       "        146.66666667]])"
      ]
     },
     "execution_count": 57,
     "metadata": {},
     "output_type": "execute_result"
    }
   ],
   "source": [
    "calories_per_cup = make_array(cereals.column(\"calories\") / cereals.column(\"cups\"))\n",
    "calories_per_cup"
   ]
  },
  {
   "cell_type": "markdown",
   "id": "130ad2ce-1d2b-4d49-9b05-0d5589b453d0",
   "metadata": {},
   "source": [
    "**Question 3.3: 10 Points** Add the calories per cup column to the cereals table and name it `cereals_with_calories_per_cup`"
   ]
  },
  {
   "cell_type": "code",
   "execution_count": 59,
   "id": "f36abed3-aa99-4425-8ba5-8611786ef7ae",
   "metadata": {
    "tags": []
   },
   "outputs": [
    {
     "ename": "ValueError",
     "evalue": "Column length mismatch. New column does not have the same number of rows as table.",
     "output_type": "error",
     "traceback": [
      "\u001b[0;31m---------------------------------------------------------------------------\u001b[0m",
      "\u001b[0;31mValueError\u001b[0m                                Traceback (most recent call last)",
      "\u001b[0;32m/tmp/ipykernel_43/1319097392.py\u001b[0m in \u001b[0;36m<module>\u001b[0;34m\u001b[0m\n\u001b[0;32m----> 1\u001b[0;31m \u001b[0mcereals_with_calories_per_cup\u001b[0m \u001b[0;34m=\u001b[0m \u001b[0mcereals\u001b[0m\u001b[0;34m.\u001b[0m\u001b[0mwith_column\u001b[0m\u001b[0;34m(\u001b[0m\u001b[0;34m'calories_per_cup'\u001b[0m\u001b[0;34m,\u001b[0m \u001b[0mcalories_per_cup\u001b[0m\u001b[0;34m)\u001b[0m\u001b[0;34m\u001b[0m\u001b[0;34m\u001b[0m\u001b[0m\n\u001b[0m\u001b[1;32m      2\u001b[0m \u001b[0mcereals_with_calories_per_cup\u001b[0m\u001b[0;34m\u001b[0m\u001b[0;34m\u001b[0m\u001b[0m\n",
      "\u001b[0;32m/opt/conda/lib/python3.9/site-packages/datascience/tables.py\u001b[0m in \u001b[0;36mwith_column\u001b[0;34m(self, label, values, formatter)\u001b[0m\n\u001b[1;32m   2285\u001b[0m         \u001b[0;32melif\u001b[0m \u001b[0misinstance\u001b[0m\u001b[0;34m(\u001b[0m\u001b[0mformatter\u001b[0m\u001b[0;34m,\u001b[0m \u001b[0mdict\u001b[0m\u001b[0;34m)\u001b[0m\u001b[0;34m:\u001b[0m\u001b[0;34m\u001b[0m\u001b[0;34m\u001b[0m\u001b[0m\n\u001b[1;32m   2286\u001b[0m             \u001b[0mformatter\u001b[0m \u001b[0;34m=\u001b[0m \u001b[0mformatter\u001b[0m\u001b[0;34m[\u001b[0m\u001b[0;34m\"formatter\"\u001b[0m\u001b[0;34m]\u001b[0m\u001b[0;34m\u001b[0m\u001b[0;34m\u001b[0m\u001b[0m\n\u001b[0;32m-> 2287\u001b[0;31m         \u001b[0mnew_table\u001b[0m\u001b[0;34m.\u001b[0m\u001b[0mappend_column\u001b[0m\u001b[0;34m(\u001b[0m\u001b[0mlabel\u001b[0m\u001b[0;34m,\u001b[0m \u001b[0mvalues\u001b[0m\u001b[0;34m,\u001b[0m \u001b[0mformatter\u001b[0m\u001b[0;34m)\u001b[0m\u001b[0;34m\u001b[0m\u001b[0;34m\u001b[0m\u001b[0m\n\u001b[0m\u001b[1;32m   2288\u001b[0m         \u001b[0;32mreturn\u001b[0m \u001b[0mnew_table\u001b[0m\u001b[0;34m\u001b[0m\u001b[0;34m\u001b[0m\u001b[0m\n\u001b[1;32m   2289\u001b[0m \u001b[0;34m\u001b[0m\u001b[0m\n",
      "\u001b[0;32m/opt/conda/lib/python3.9/site-packages/datascience/tables.py\u001b[0m in \u001b[0;36mappend_column\u001b[0;34m(self, label, values, formatter)\u001b[0m\n\u001b[1;32m    921\u001b[0m \u001b[0;34m\u001b[0m\u001b[0m\n\u001b[1;32m    922\u001b[0m         \u001b[0;32mif\u001b[0m \u001b[0mself\u001b[0m\u001b[0;34m.\u001b[0m\u001b[0mnum_rows\u001b[0m \u001b[0;34m!=\u001b[0m \u001b[0;36m0\u001b[0m \u001b[0;32mand\u001b[0m \u001b[0mlen\u001b[0m\u001b[0;34m(\u001b[0m\u001b[0mvalues\u001b[0m\u001b[0;34m)\u001b[0m \u001b[0;34m!=\u001b[0m \u001b[0mself\u001b[0m\u001b[0;34m.\u001b[0m\u001b[0mnum_rows\u001b[0m\u001b[0;34m:\u001b[0m\u001b[0;34m\u001b[0m\u001b[0;34m\u001b[0m\u001b[0m\n\u001b[0;32m--> 923\u001b[0;31m             raise ValueError('Column length mismatch. New column does not have '\n\u001b[0m\u001b[1;32m    924\u001b[0m                              'the same number of rows as table.')\n\u001b[1;32m    925\u001b[0m         \u001b[0;32melse\u001b[0m\u001b[0;34m:\u001b[0m\u001b[0;34m\u001b[0m\u001b[0;34m\u001b[0m\u001b[0m\n",
      "\u001b[0;31mValueError\u001b[0m: Column length mismatch. New column does not have the same number of rows as table."
     ]
    }
   ],
   "source": [
    "cereals_with_calories_per_cup = cereals.with_column('calories_per_cup', calories_per_cup)\n",
    "cereals_with_calories_per_cup\n",
    "#cereals['calories_per_cup'] = calories_per_cup.tolist()\n",
    "#cereals\n",
    "#I couldn't quite figure this one out. I know it must have something to do with my calories_per_cup array because it has a length of 1."
   ]
  },
  {
   "cell_type": "markdown",
   "id": "c3b9ddd9-5012-43cc-aac4-b6454c91384f",
   "metadata": {},
   "source": [
    "**Question 3.4: 10 Points** Find the cereal with the highest rating. Save it's name in `highest_rated_cereal`"
   ]
  },
  {
   "cell_type": "code",
   "execution_count": 51,
   "id": "86224039-5cde-4c05-8fe3-ab2d13b7774e",
   "metadata": {
    "tags": []
   },
   "outputs": [
    {
     "data": {
      "text/plain": [
       "'All-Bran with Extra Fiber'"
      ]
     },
     "execution_count": 51,
     "metadata": {},
     "output_type": "execute_result"
    }
   ],
   "source": [
    "cereal_by_rating = cereals.sort(\"rating\", descending=True)\n",
    "highest_rated_cereal = Table.column(cereal_by_rating, \"name\").item(0)\n",
    "highest_rated_cereal\n"
   ]
  },
  {
   "cell_type": "markdown",
   "id": "ba30cde6-96e7-485d-aff6-64ab2087aa7a",
   "metadata": {},
   "source": [
    "**Question 3.5: 10 Points** Make a histogram of the sodium per serving of each kellog cereal. **Important:** Leave the sodium column as sodium per serving. Do not modify the values"
   ]
  },
  {
   "cell_type": "code",
   "execution_count": 19,
   "id": "925a3210-210a-4657-91bf-804ebb7f1da8",
   "metadata": {
    "tags": []
   },
   "outputs": [
    {
     "data": {
      "image/png": "[encoded data removed]",
      "text/plain": [
       "<Figure size 432x288 with 1 Axes>"
      ]
     },
     "metadata": {},
     "output_type": "display_data"
    }
   ],
   "source": [
    "kellog_cereals = cereals.where(\"mfr\", are.equal_to('K'))\n",
    "cereals.hist(\"sodium\")"
   ]
  },
  {
   "cell_type": "markdown",
   "id": "3e8e432e-da24-4147-8709-7165fe5deb11",
   "metadata": {},
   "source": [
    "**Question 3.6: 10 Points** Find the average rating per manufacturer and save it as a table. *Hint:* The final table should have only two columns"
   ]
  },
  {
   "cell_type": "code",
   "execution_count": 20,
   "id": "f677eb55-2b9e-4200-abf0-d29a8c4d05c1",
   "metadata": {
    "tags": []
   },
   "outputs": [
    {
     "data": {
      "text/html": [
       "<table border=\"1\" class=\"dataframe\">\n",
       "    <thead>\n",
       "        <tr>\n",
       "            <th>mfr</th> <th>avg_rating</th>\n",
       "        </tr>\n",
       "    </thead>\n",
       "    <tbody>\n",
       "        <tr>\n",
       "            <td>Kellog                     </td> <td>44.0385   </td>\n",
       "        </tr>\n",
       "        <tr>\n",
       "            <td>American Home Food Products</td> <td>54.8509   </td>\n",
       "        </tr>\n",
       "        <tr>\n",
       "            <td>General Mills              </td> <td>34.4859   </td>\n",
       "        </tr>\n",
       "        <tr>\n",
       "            <td>Nabisco                    </td> <td>67.9686   </td>\n",
       "        </tr>\n",
       "        <tr>\n",
       "            <td>Post                       </td> <td>41.7057   </td>\n",
       "        </tr>\n",
       "        <tr>\n",
       "            <td>Quaker Oats                </td> <td>42.916    </td>\n",
       "        </tr>\n",
       "        <tr>\n",
       "            <td>Ralston Purina             </td> <td>41.543    </td>\n",
       "        </tr>\n",
       "    </tbody>\n",
       "</table>"
      ],
      "text/plain": [
       "mfr                         | avg_rating\n",
       "Kellog                      | 44.0385\n",
       "American Home Food Products | 54.8509\n",
       "General Mills               | 34.4859\n",
       "Nabisco                     | 67.9686\n",
       "Post                        | 41.7057\n",
       "Quaker Oats                 | 42.916\n",
       "Ralston Purina              | 41.543"
      ]
     },
     "execution_count": 20,
     "metadata": {},
     "output_type": "execute_result"
    }
   ],
   "source": [
    "def average_rating(array):\n",
    "    #cereals.column(\"name\")\n",
    "    #var a_kellog_rating = np.average(cereals.where('mfr', are.equal_to('K'))[\"Rating\"])\n",
    "    rating_mfr = make_array(\n",
    "    np.average(cereals.where('mfr', are.equal_to('K'))[\"rating\"]),\n",
    "    np.average(cereals.where('mfr', are.equal_to('A'))[\"rating\"]),\n",
    "    np.average(cereals.where('mfr', are.equal_to('G'))[\"rating\"]),\n",
    "    np.average(cereals.where('mfr', are.equal_to('N'))[\"rating\"]),\n",
    "    np.average(cereals.where('mfr', are.equal_to('P'))[\"rating\"]),\n",
    "    np.average(cereals.where('mfr', are.equal_to('Q'))[\"rating\"]),\n",
    "    np.average(cereals.where('mfr', are.equal_to('R'))[\"rating\"])\n",
    "    )\n",
    "\n",
    "\n",
    "Avg_rating_by_mfr = Table().with_columns([\n",
    "        \"mfr\", [\"Kellog\", \"American Home Food Products\", \"General Mills\", 'Nabisco', 'Post', 'Quaker Oats', 'Ralston Purina'],\n",
    "        \"avg_rating\", [np.average(cereals.where('mfr', are.equal_to('K'))[\"rating\"]),\n",
    "                      np.average(cereals.where('mfr', are.equal_to('A'))[\"rating\"]),\n",
    "                      np.average(cereals.where('mfr', are.equal_to('G'))[\"rating\"]),\n",
    "                      np.average(cereals.where('mfr', are.equal_to('N'))[\"rating\"]),\n",
    "                      np.average(cereals.where('mfr', are.equal_to('P'))[\"rating\"]),\n",
    "                      np.average(cereals.where('mfr', are.equal_to('Q'))[\"rating\"]),\n",
    "                      np.average(cereals.where('mfr', are.equal_to('R'))[\"rating\"]),\n",
    "                     ]])\n",
    "Avg_rating_by_mfr\n"
   ]
  },
  {
   "cell_type": "markdown",
   "id": "fd6e2d21-426d-411b-889f-ab559beb5b80",
   "metadata": {},
   "source": [
    "## Question 4: Rock Paper Scissors\n",
    "\n",
    "For this question we will write code to simulate a game of rock, paper, scissors. Assuming both players randomly select \"Rock\", \"Paper\", or \"Scissors\" and that **player_1 wins every tied round**. \n",
    "\n",
    "If you are not familiar with the game, there are three rules for each round:\n",
    "\n",
    "1. Rock beats scissors.\n",
    "\n",
    "2. Scissors beats paper.\n",
    "\n",
    "3. Paper beats rock.\n",
    "\n",
    "A game of rock paper scissiors is composed of playing any odd number of rounds. At the end of this the player with the most wins is the victor.\n"
   ]
  },
  {
   "cell_type": "markdown",
   "id": "44f6db5c",
   "metadata": {},
   "source": [
    "**Question 4.1: 10 Points** Numerically describe the probability of player_1 winning a round of rock paper scissors. **Remember they win every tie** (Show your work and/or explain how you obtained the probability)"
   ]
  },
  {
   "cell_type": "code",
   "execution_count": 21,
   "id": "bc0bd169",
   "metadata": {},
   "outputs": [
    {
     "ename": "SyntaxError",
     "evalue": "invalid syntax (778478664.py, line 1)",
     "output_type": "error",
     "traceback": [
      "\u001b[0;36m  File \u001b[0;32m\"/tmp/ipykernel_43/778478664.py\"\u001b[0;36m, line \u001b[0;32m1\u001b[0m\n\u001b[0;31m    A tie will happen 1/3 times. I know this because player1 can pick any option, and player2 has a 1/3 chance of picking the same option\u001b[0m\n\u001b[0m      ^\u001b[0m\n\u001b[0;31mSyntaxError\u001b[0m\u001b[0;31m:\u001b[0m invalid syntax\n"
     ]
    }
   ],
   "source": [
    "A tie will happen 1/3 times. I know this because player1 can pick any option, and player2 has a 1/3 chance of picking the same option\n",
    "player_1 will win out right 1/3 times. This is true because player1 can pick any option, and player2 has a 1/3 chance of picking the option that will lose to player1\n",
    "So since player_1 wins every tied round, he will win 2/3 times"
   ]
  },
  {
   "cell_type": "markdown",
   "id": "1f3b1286-7493-44bc-8dc0-5bcad8dc3882",
   "metadata": {},
   "source": [
    "**Question 4.2: 10 Points** Write a function to simulate a game of rock paper scissors shoot for an unspecified number of rounds. You should return the number of rounds won by player_1. **Remember player_1 wins every tie** "
   ]
  },
  {
   "cell_type": "code",
   "execution_count": 35,
   "id": "93e964b3-d4f4-4b8b-b131-8933fd3585b3",
   "metadata": {},
   "outputs": [
    {
     "data": {
      "text/plain": [
       "2"
      ]
     },
     "execution_count": 35,
     "metadata": {},
     "output_type": "execute_result"
    }
   ],
   "source": [
    "def play_rps(rounds):\n",
    "    #Defining their choices\n",
    "    choices = make_array(\"Rock\", \"Paper\", \"Scissors\")\n",
    "    \n",
    "    #Creating a varriable to track everytime player_1 has won\n",
    "    player_1_rounds_won = 0\n",
    "    \n",
    "    for i in range(rounds):\n",
    "        \n",
    "        #Simulate their plays. Using a function to choose an outcome from the choices array\n",
    "        p1_play = np.random.choice(choices)\n",
    "        p2_play = np.random.choice(choices)\n",
    "    \n",
    "        # Decide who wins Hint: you can nest one if statement inside another. Do this 3 times\n",
    "        \n",
    "        if p1_play == p2_play:\n",
    "            player_1_rounds_won = player_1_rounds_won + 1\n",
    "            \n",
    "        elif p1_play == 'Rock' and p2_play == 'Scissors': \n",
    "            player_1_rounds_won = player_1_rounds_won + 1\n",
    "        \n",
    "        elif p1_play == 'Scissors' and p2_play == 'Paper': \n",
    "            player_1_rounds_won = player_1_rounds_won + 1\n",
    "            \n",
    "        elif p1_play == 'Rock' and p2_play == 'Scissors': \n",
    "            player_1_rounds_won = player_1_rounds_won + 1\n",
    "        \n",
    "            \n",
    "    return player_1_rounds_won\n",
    "\n",
    "#Should return between 0-3, usually 2 or 3         \n",
    "play_rps(3)"
   ]
  },
  {
   "cell_type": "markdown",
   "id": "b03cf2a7-13e8-4adb-9b79-778cf5a66f15",
   "metadata": {},
   "source": [
    "**Question 4.3: 10 Points** Using your solution to the previous problem. Estimate the probability player1 will win a 3 round game (if they win the majority of the rounds they win the game). To do this simulate 1,000 best out of 3 games and then return the proportion of games p1 won."
   ]
  },
  {
   "cell_type": "code",
   "execution_count": 35,
   "id": "237196ac-48e5-425e-abec-1c715b9957b6",
   "metadata": {},
   "outputs": [
    {
     "data": {
      "text/plain": [
       "0.575"
      ]
     },
     "execution_count": 35,
     "metadata": {},
     "output_type": "execute_result"
    }
   ],
   "source": [
    "p1_games_won = 0\n",
    "for i in range(1000):\n",
    "    play_rps(3)\n",
    "    if play_rps(3) >= 2:\n",
    "       p1_games_won = p1_games_won + 1 \n",
    "\n",
    "prob_p1_win = p1_games_won / 1000\n",
    "\n",
    "\n",
    "prob_p1_win"
   ]
  },
  {
   "cell_type": "code",
   "execution_count": null,
   "id": "6b4cd618",
   "metadata": {},
   "outputs": [],
   "source": []
  },
  {
   "cell_type": "code",
   "execution_count": null,
   "id": "d849fe6c",
   "metadata": {},
   "outputs": [],
   "source": []
  }
 ],
 "metadata": {
  "kernelspec": {
   "display_name": "Python 3 (ipykernel)",
   "language": "python",
   "name": "python3"
  },
  "language_info": {
   "codemirror_mode": {
    "name": "ipython",
    "version": 3
   },
   "file_extension": ".py",
   "mimetype": "text/x-python",
   "name": "python",
   "nbconvert_exporter": "python",
   "pygments_lexer": "ipython3",
   "version": "3.9.7"
  }
 },
 "nbformat": 4,
 "nbformat_minor": 5
}
