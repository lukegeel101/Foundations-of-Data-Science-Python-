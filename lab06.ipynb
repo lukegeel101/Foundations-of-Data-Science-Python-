{
 "cells": [
  {
   "cell_type": "markdown",
   "id": "0fa8d5d5",
   "metadata": {
    "tags": []
   },
   "source": [
    "## Examining the Therapeutic Touch\n",
    "\n",
    "This lab is to be taken on **Friday 10/28**. Students should submit the lab on Gradescope when done.\n",
    "\n",
    "Welcome to Lab 6! After such an extensive introduction to programming for data science, we are finally moving into the section of the course where we can apply our new skils to answer real questions.  \n",
    "\n",
    "In this lab, we'll use testing techniques that were introduced in lecture to test the idea of the therapeutic touch, the idea that some practictioners can feel and massage your human energy field. "
   ]
  },
  {
   "cell_type": "code",
   "execution_count": 4,
   "id": "161c59c2",
   "metadata": {},
   "outputs": [],
   "source": [
    "# These lines import the Numpy and Datascience modules.\n",
    "import numpy as np\n",
    "from datascience import *\n",
    "\n",
    "# These lines do some fancy plotting magic\n",
    "import matplotlib\n",
    "%matplotlib inline\n",
    "import matplotlib.pyplot as plt\n",
    "plt.style.use('fivethirtyeight')\n",
    "import warnings\n",
    "warnings.simplefilter('ignore', FutureWarning)\n",
    "from matplotlib import patches\n",
    "from ipywidgets import interact, interactive, fixed\n",
    "import ipywidgets as widgets\n",
    "import otter\n",
    "grader = otter.Notebook()"
   ]
  },
  {
   "cell_type": "markdown",
   "id": "26795d1c",
   "metadata": {
    "tags": []
   },
   "source": [
    "### What is the Therapeutic Touch\n",
    "\n",
    "The Therapeutic Touch (TT) is the idea that everyone can field the Human Energy Field (HEF) around individuals. Certain practictioners claim they have the ability to feel the HEF and can massage it in order to promote health and relaxation in individuals. Those who practice TT have described different people's HEFs as \"warm as Jell-O\" and \"tactile as taffy\". \n",
    "\n",
    "TT was a popular technique used throughout the 20th century that was recommended as a great way to bring balance to a person's health. \n",
    "\n",
    "### Emily Rosa\n",
    "\n",
    "Emily Rosa was a 4th grade student who had wide exposure to the world of TT due to her parents. Her parents were both medical practitioners and skeptics of the idea of TT. \n",
    "\n",
    "For her 4th grade science fair project, Emily decided to test whether or not TT practitioners could truly had any interaction with a person's HEF. "
   ]
  },
  {
   "cell_type": "markdown",
   "id": "408a6042",
   "metadata": {},
   "source": [
    "**Question 1:** Discuss with your team mate(s) how you would set up an experiment to test this."
   ]
  },
  {
   "cell_type": "markdown",
   "id": "e391217c",
   "metadata": {},
   "source": [
    "Have two groups of participants, one group who practices TT and one group that doesn't. Compare the results from the two groups. If the results are significantly different, then TT might be a real thing. Otherwise, it is likely not a real thing."
   ]
  },
  {
   "cell_type": "markdown",
   "id": "8f087a42",
   "metadata": {},
   "source": [
    "<!-- END QUESTION -->\n",
    "\n",
    "### Emily's Experiment\n",
    "\n",
    "Emily's experiement was clean, simple, elegant, and effective. Due to her parents occupations in the medical field, she had wide access to people who claimed to be TT practitioners. \n",
    "`\n",
    "Emily took 21 TT practitioners and used them for her science experiment. She would take a TT practitioner, ask them to extend their hands through a screen (through which they can't see). On the other side would be Emily, who would flip a coin and put out either her left hand or her right hand, depending on the coin. The TT practitioner would then have to correctly answer which hand Emily put out. Overall, through 210 samples, the practitioner picked the correct hand 44% of the time. \n",
    "\n",
    "Emily's main goal here was to test whether or not the TT practicioners guesses were random, like a flip of the coin. "
   ]
  },
  {
   "cell_type": "markdown",
   "id": "72f514c8",
   "metadata": {},
   "source": [
    "**Question 2**: What are the null and alternative hypothesis for Emily's experiment? Discuss with students around you to come to a conclusion. "
   ]
  },
  {
   "cell_type": "markdown",
   "id": "972d8a50",
   "metadata": {},
   "source": [
    "The null hypothesis is that TT is real and that the results between the TT practitioners and non TT practitioners wouldn't be the same. The alternate hypothesis is that TT isn't a real thing and that the results between the TT practitioners and non TT practitioners would be the same."
   ]
  },
  {
   "cell_type": "markdown",
   "id": "a901b96a",
   "metadata": {},
   "source": [
    "<!-- END QUESTION -->\n",
    "\n",
    "**Question 3:** Remember that the pracitioner got the correct answer 44% of the time. Under the null hypothesis, on average, what proportion of times do we expect the practitioner to guess the correct hand? Make sure your answer is between 0 and 1. "
   ]
  },
  {
   "cell_type": "code",
   "execution_count": 5,
   "id": "1b1fccda",
   "metadata": {
    "tags": []
   },
   "outputs": [
    {
     "data": {
      "text/plain": [
       "0.5"
      ]
     },
     "execution_count": 5,
     "metadata": {},
     "output_type": "execute_result"
    }
   ],
   "source": [
    "expected_correct = 1/2\n",
    "expected_correct"
   ]
  },
  {
   "cell_type": "code",
   "execution_count": 6,
   "id": "f0646e31",
   "metadata": {
    "deletable": false,
    "editable": false
   },
   "outputs": [
    {
     "data": {
      "text/html": [
       "<p><strong><pre style='display: inline;'>q1.3</pre></strong> passed!</p>"
      ],
      "text/plain": [
       "q1.3 results: All test cases passed!"
      ]
     },
     "execution_count": 6,
     "metadata": {},
     "output_type": "execute_result"
    }
   ],
   "source": [
    "grader.check(\"q1.3\")"
   ]
  },
  {
   "cell_type": "markdown",
   "id": "3201e380",
   "metadata": {},
   "source": [
    "The goal now is to see if our deviation from this expected proportion of correct answers is due to something other than chance. \n",
    "\n",
    "**Question 4:** What is a valid test statistic we can use to test our model? Assign `valid_ts` to an array of integers representing the following options: \n",
    "\n",
    "1. The product of the expected percent correct and the actual percent correct\n",
    "2. The absolute difference of the expected percent correct and the actual percent correct\n",
    "3. The sum of the expected percent correct and the actual percent correct\n",
    "\n",
    "There may be more than one correct answer. "
   ]
  },
  {
   "cell_type": "code",
   "execution_count": 38,
   "id": "0bc89377",
   "metadata": {
    "tags": []
   },
   "outputs": [
    {
     "data": {
      "text/plain": [
       "array([[2]])"
      ]
     },
     "execution_count": 38,
     "metadata": {},
     "output_type": "execute_result"
    }
   ],
   "source": [
    "# Use make_array()\n",
    "valid_ts = make_array([2])\n",
    "valid_ts"
   ]
  },
  {
   "cell_type": "code",
   "execution_count": 39,
   "id": "71593712",
   "metadata": {
    "deletable": false,
    "editable": false
   },
   "outputs": [
    {
     "data": {
      "text/html": [
       "<p><strong><pre style='display: inline;'>q1.4</pre></strong> passed!</p>"
      ],
      "text/plain": [
       "q1.4 results: All test cases passed!"
      ]
     },
     "execution_count": 39,
     "metadata": {},
     "output_type": "execute_result"
    }
   ],
   "source": [
    "grader.check(\"q1.4\")"
   ]
  },
  {
   "cell_type": "markdown",
   "id": "a87956b5",
   "metadata": {},
   "source": [
    "**Question 5:** Define the function `test_statistic` which takes in an expected proportion and an actual proportion, and returns the value of the test statistic chosen above. Assume that you are taking in proportions, but return your answer as a percentage. "
   ]
  },
  {
   "cell_type": "code",
   "execution_count": 11,
   "id": "b4d19a95",
   "metadata": {
    "tags": []
   },
   "outputs": [],
   "source": [
    "def test_statistic(expected_prop, actual_prop):\n",
    "    return abs(expected_prop - actual_prop) * 100"
   ]
  },
  {
   "cell_type": "code",
   "execution_count": 12,
   "id": "1ef973c8",
   "metadata": {
    "deletable": false,
    "editable": false
   },
   "outputs": [
    {
     "data": {
      "text/html": [
       "<p><strong><pre style='display: inline;'>q1.5</pre></strong> passed!</p>"
      ],
      "text/plain": [
       "q1.5 results: All test cases passed!"
      ]
     },
     "execution_count": 12,
     "metadata": {},
     "output_type": "execute_result"
    }
   ],
   "source": [
    "grader.check(\"q1.5\")"
   ]
  },
  {
   "cell_type": "markdown",
   "id": "cdc16a8c",
   "metadata": {},
   "source": [
    "**Question 6:** Use your newly defined function to calculate the observed test statistic from Emily's experiment where the practicioner was correct 44% of the time"
   ]
  },
  {
   "cell_type": "code",
   "execution_count": 14,
   "id": "bb69bc17",
   "metadata": {
    "tags": []
   },
   "outputs": [
    {
     "data": {
      "text/plain": [
       "6.0"
      ]
     },
     "execution_count": 14,
     "metadata": {},
     "output_type": "execute_result"
    }
   ],
   "source": [
    "observed_test_statistic = test_statistic(0.5, 0.44)\n",
    "observed_test_statistic"
   ]
  },
  {
   "cell_type": "code",
   "execution_count": 15,
   "id": "52b93846",
   "metadata": {
    "deletable": false,
    "editable": false
   },
   "outputs": [
    {
     "data": {
      "text/html": [
       "<p><strong><pre style='display: inline;'>q1.6</pre></strong> passed!</p>"
      ],
      "text/plain": [
       "q1.6 results: All test cases passed!"
      ]
     },
     "execution_count": 15,
     "metadata": {},
     "output_type": "execute_result"
    }
   ],
   "source": [
    "grader.check(\"q1.6\")"
   ]
  },
  {
   "cell_type": "markdown",
   "id": "28daded5",
   "metadata": {},
   "source": [
    "Is this a test statistic that is likely if the null hypothesis was true? Or is the deviation from the expected proportion due to something other than chance?\n",
    "\n",
    "In order to answer this question, we must simulate the experiment as though the null hypothesis was true, and calculate the test statistic per each simulation. \n",
    "\n",
    "**Question 7:** To begin simulating, we should start by creating an array which has two items in it. The first item should be the proportion of times, assuming the null model is true, a TT practictioner picks the correct hand. The second item should be the proportion of times, under the same assumption, that the TT practicioner picks the incorrect hand. Assign `model_proportions` to this array. After this, simulate, using the `sample_proportions` function, Emily running through this experiment 210 times (as done in real life), and assign the proportion of correct answers to `simulation_proportion`. Lastly, define `one_test_statistic` to the test statistic of this one simulation. "
   ]
  },
  {
   "cell_type": "code",
   "execution_count": 18,
   "id": "1c987565",
   "metadata": {
    "tags": []
   },
   "outputs": [
    {
     "data": {
      "text/plain": [
       "4.285714285714281"
      ]
     },
     "execution_count": 18,
     "metadata": {},
     "output_type": "execute_result"
    }
   ],
   "source": [
    "model_proportions = make_array(0.5, 0.5) \n",
    "\n",
    "simulation_proportion = sample_proportions(210, model_proportions).item(0)\n",
    "one_test_statistic = test_statistic(0.5, simulation_proportion)\n",
    "one_test_statistic"
   ]
  },
  {
   "cell_type": "code",
   "execution_count": 19,
   "id": "23b9230b",
   "metadata": {
    "deletable": false,
    "editable": false
   },
   "outputs": [
    {
     "data": {
      "text/html": [
       "<p><strong><pre style='display: inline;'>q1.7</pre></strong> passed!</p>"
      ],
      "text/plain": [
       "q1.7 results: All test cases passed!"
      ]
     },
     "execution_count": 19,
     "metadata": {},
     "output_type": "execute_result"
    }
   ],
   "source": [
    "grader.check(\"q1.7\")"
   ]
  },
  {
   "cell_type": "markdown",
   "id": "a5edffcb",
   "metadata": {},
   "source": [
    "**Question 8:** Let's now see what the distribution of test statistics is actually like under our fully specified model. Assign `simulated_test_statistics` to an array of 1000 test statistics that you simulated assuming the null hypothesis is true. \n",
    "\n",
    "*Hint:* This should follow the same pattern as normal simulations, in combination with the code you did in the previous problem.  "
   ]
  },
  {
   "cell_type": "code",
   "execution_count": 28,
   "id": "8651ce8d",
   "metadata": {
    "for_assignment_type": "student",
    "scrolled": true,
    "tags": []
   },
   "outputs": [],
   "source": [
    "num_repetitions = 1000\n",
    "num_guesses = 210\n",
    "\n",
    "simulated_test_statistics = []\n",
    "\n",
    "for _ in range(num_repetitions):\n",
    "    temp = [0.5, 0.5]\n",
    "    cur_sim_correct = sample_proportions(210, temp)[0]\n",
    "    cur_statistic = test_statistic(0.5, cur_sim_correct)\n",
    "    simulated_test_statistics.append(cur_statistic)\n",
    "    \n",
    "simulated_test_statistics = np.array(simulated_test_statistics)"
   ]
  },
  {
   "cell_type": "code",
   "execution_count": 29,
   "id": "ea2935f4",
   "metadata": {
    "deletable": false,
    "editable": false
   },
   "outputs": [
    {
     "data": {
      "text/html": [
       "<p><strong><pre style='display: inline;'>q1.8</pre></strong> passed!</p>"
      ],
      "text/plain": [
       "q1.8 results: All test cases passed!"
      ]
     },
     "execution_count": 29,
     "metadata": {},
     "output_type": "execute_result"
    }
   ],
   "source": [
    "grader.check(\"q1.8\")"
   ]
  },
  {
   "cell_type": "markdown",
   "id": "aba6165f",
   "metadata": {},
   "source": [
    "Let's view the distribution of the simulated test statistics under the null, and visually compare how the observed test statistic lies against the rest. "
   ]
  },
  {
   "cell_type": "code",
   "execution_count": 30,
   "id": "fbadbb24",
   "metadata": {},
   "outputs": [
    {
     "data": {
      "image/png": "[encoded data removed]",
      "text/plain": [
       "<Figure size 432x288 with 1 Axes>"
      ]
     },
     "metadata": {},
     "output_type": "display_data"
    }
   ],
   "source": [
    "t = Table().with_column('Simulated Test Statistics', simulated_test_statistics)\n",
    "t.hist()"
   ]
  },
  {
   "cell_type": "markdown",
   "id": "5cbf1dfe",
   "metadata": {},
   "source": [
    "We can make a visual argument as to whether or not we believe the observed test statistic is likely to occur under the null, or we can use the definition of p-values to help us make a more formal argument. \n",
    "\n",
    "**Question 9:** Assume `p_value` to the integer corresponding to the correct definition of what a p-value really is. \n",
    "\n",
    "1. The chance, under the null hypothesis, that the test statistic is equal to the value that was observed\n",
    "2. The chance, under the null hypothesis, that the test statistic is equal to the value that was observed or is even further in the direction of the alternative\n",
    "3. The chance, under the alternative hypothesis, that the test statistic is equal to the value that was observed or is even further in the direction of the null \n",
    "4. The number of times, under the null hypothesis, that the test statistic is equal to the value that was observed or is even further in the direction of the alternative"
   ]
  },
  {
   "cell_type": "code",
   "execution_count": 31,
   "id": "d59b4e8e",
   "metadata": {
    "tags": []
   },
   "outputs": [
    {
     "data": {
      "text/plain": [
       "2"
      ]
     },
     "execution_count": 31,
     "metadata": {},
     "output_type": "execute_result"
    }
   ],
   "source": [
    "p_value = 2\n",
    "p_value"
   ]
  },
  {
   "cell_type": "code",
   "execution_count": 32,
   "id": "ea8f37e2",
   "metadata": {
    "deletable": false,
    "editable": false
   },
   "outputs": [
    {
     "data": {
      "text/html": [
       "<p><strong><pre style='display: inline;'>q1.9</pre></strong> passed!</p>"
      ],
      "text/plain": [
       "q1.9 results: All test cases passed!"
      ]
     },
     "execution_count": 32,
     "metadata": {},
     "output_type": "execute_result"
    }
   ],
   "source": [
    "grader.check(\"q1.9\")"
   ]
  },
  {
   "cell_type": "markdown",
   "id": "dcc34e08",
   "metadata": {},
   "source": [
    "**Question 10:** Using the definition above, calculate the p-value of Emily's observed value in this experiment. \n",
    "\n",
    "*Hint:* If our test statistic is further in the direction of the alternative, will larger value or a smaller value? "
   ]
  },
  {
   "cell_type": "code",
   "execution_count": 33,
   "id": "d584ac36",
   "metadata": {
    "tags": []
   },
   "outputs": [
    {
     "data": {
      "text/plain": [
       "0.086"
      ]
     },
     "execution_count": 33,
     "metadata": {},
     "output_type": "execute_result"
    }
   ],
   "source": [
    "emily_p_val = np.sum(simulated_test_statistics >= observed_test_statistic) / num_repetitions\n",
    "emily_p_val"
   ]
  },
  {
   "cell_type": "code",
   "execution_count": 34,
   "id": "166e085f",
   "metadata": {
    "deletable": false,
    "editable": false
   },
   "outputs": [
    {
     "data": {
      "text/html": [
       "<p><strong style='color: red;'><pre style='display: inline;'>q1.10</pre> results:</strong></p><p><strong><pre style='display: inline;'>q1.10 - 1</pre> result:</strong></p><pre>    Trying:\n",
       "        assert float(np.round(emily_p_val,2)) == .08\n",
       "    Expecting nothing\n",
       "    **********************************************************************\n",
       "    Line 1, in q1.10 0\n",
       "    Failed example:\n",
       "        assert float(np.round(emily_p_val,2)) == .08\n",
       "    Exception raised:\n",
       "        Traceback (most recent call last):\n",
       "          File \"/opt/conda/lib/python3.9/doctest.py\", line 1336, in __run\n",
       "            exec(compile(example.source, filename, \"single\",\n",
       "          File \"<doctest q1.10 0[0]>\", line 1, in <module>\n",
       "            assert float(np.round(emily_p_val,2)) == .08\n",
       "        AssertionError\n",
       "</pre><p><strong><pre style='display: inline;'>q1.10 - 1</pre> message:</strong> Think about how a p_value is useful to us</p>"
      ],
      "text/plain": [
       "q1.10 results:\n",
       "    q1.10 - 1 result:\n",
       "        Trying:\n",
       "            assert float(np.round(emily_p_val,2)) == .08\n",
       "        Expecting nothing\n",
       "        **********************************************************************\n",
       "        Line 1, in q1.10 0\n",
       "        Failed example:\n",
       "            assert float(np.round(emily_p_val,2)) == .08\n",
       "        Exception raised:\n",
       "            Traceback (most recent call last):\n",
       "              File \"/opt/conda/lib/python3.9/doctest.py\", line 1336, in __run\n",
       "                exec(compile(example.source, filename, \"single\",\n",
       "              File \"<doctest q1.10 0[0]>\", line 1, in <module>\n",
       "                assert float(np.round(emily_p_val,2)) == .08\n",
       "            AssertionError\n",
       "\n",
       "    q1.10 - 1 message: Think about how a p_value is useful to us"
      ]
     },
     "execution_count": 34,
     "metadata": {},
     "output_type": "execute_result"
    }
   ],
   "source": [
    "grader.check(\"q1.10\")"
   ]
  },
  {
   "cell_type": "markdown",
   "id": "bd151df5",
   "metadata": {},
   "source": [
    "If our p-value is less than or equal to .05, then this is in favor of our alternative and we reject the null hypothesis. Otherwise, we do not have enough evidence against our null hypothesis. Note that this does **not** say we side in favor with the null hypothesis and accept it, but rather, that we just fail to reject it. \n",
    "\n",
    "This should help you make your own conclusions about Emily Rosa's experiment. \n",
    "\n",
    "Therapeutic touch fell out of use after this experiment, which was eventually accepted into one of the premier medicine journals that every professional strives for. TT practitioners hit back and accused Emily and her family of tampering with the results, while some claimed that Emily's bad spiritual mood towards therapeutic touch made it difficult to read her HEF. Whatever it may be, Emily's experiment is a classic example about how anyone, with the right resources, can test anything they want!\n",
    "\n",
    "[Checkout this wikipedia page to learn more about her](https://en.wikipedia.org/wiki/Emily_Rosa)\n",
    "\n",
    "Think to yourself and be prepared to talk with your labmates and TA about the following questions: \n",
    "\n",
    "1. Do we reject the null hypothesis, or fail to reject it? \n",
    "2. What does this mean in terms of Emily's experiment? Do the TT practitioners answers follow an even chance model or is there something else at play? \n"
   ]
  },
  {
   "cell_type": "code",
   "execution_count": 36,
   "id": "06d68771",
   "metadata": {},
   "outputs": [],
   "source": [
    "#Since the p-value is greater than .05, the reject the null hypothesis and thus we can conclude that TT isn't a real thing. The TT practitioners answers follow an even chance model, jsut like the ones who don't practice TT."
   ]
  },
  {
   "cell_type": "markdown",
   "id": "ad606ecc",
   "metadata": {
    "deletable": false,
    "editable": false
   },
   "source": [
    "---\n",
    "\n",
    "To double-check your work, the cell below will rerun all of the autograder tests."
   ]
  },
  {
   "cell_type": "code",
   "execution_count": 37,
   "id": "0f10a078",
   "metadata": {
    "deletable": false,
    "editable": false
   },
   "outputs": [
    {
     "data": {
      "text/plain": [
       "q1.10 results:\n",
       "    q1.10 - 1 result:\n",
       "        Trying:\n",
       "            assert float(np.round(emily_p_val,2)) == .08\n",
       "        Expecting nothing\n",
       "        **********************************************************************\n",
       "        Line 1, in q1.10 0\n",
       "        Failed example:\n",
       "            assert float(np.round(emily_p_val,2)) == .08\n",
       "        Exception raised:\n",
       "            Traceback (most recent call last):\n",
       "              File \"/opt/conda/lib/python3.9/doctest.py\", line 1336, in __run\n",
       "                exec(compile(example.source, filename, \"single\",\n",
       "              File \"<doctest q1.10 0[0]>\", line 1, in <module>\n",
       "                assert float(np.round(emily_p_val,2)) == .08\n",
       "            AssertionError\n",
       "\n",
       "    q1.10 - 1 message: Think about how a p_value is useful to us\n",
       "\n",
       "q1.3 results: All test cases passed!\n",
       "\n",
       "q1.4 results: All test cases passed!\n",
       "\n",
       "q1.5 results: All test cases passed!\n",
       "\n",
       "q1.6 results: All test cases passed!\n",
       "\n",
       "q1.7 results: All test cases passed!\n",
       "\n",
       "q1.8 results: All test cases passed!\n",
       "\n",
       "q1.9 results: All test cases passed!"
      ]
     },
     "execution_count": 37,
     "metadata": {},
     "output_type": "execute_result"
    }
   ],
   "source": [
    "grader.check_all()"
   ]
  },
  {
   "cell_type": "code",
   "execution_count": null,
   "id": "19b8ca23",
   "metadata": {},
   "outputs": [],
   "source": []
  }
 ],
 "metadata": {
  "kernelspec": {
   "display_name": "Python 3 (ipykernel)",
   "language": "python",
   "name": "python3"
  },
  "language_info": {
   "codemirror_mode": {
    "name": "ipython",
    "version": 3
   },
   "file_extension": ".py",
   "mimetype": "text/x-python",
   "name": "python",
   "nbconvert_exporter": "python",
   "pygments_lexer": "ipython3",
   "version": "3.9.7"
  },
  "otter": {
   "tests": {
    "q1.10": {
     "name": "q1.10",
     "points": 0,
     "suites": [
      {
       "cases": [
        {
         "code": ">>> assert float(np.round(emily_p_val,2)) == .08\n",
         "failure_message": "Think about how a p_value is useful to us",
         "hidden": false,
         "locked": false
        }
       ],
       "scored": true,
       "setup": "",
       "teardown": "",
       "type": "doctest"
      }
     ]
    },
    "q1.3": {
     "name": "q1.3",
     "points": 0,
     "suites": [
      {
       "cases": [
        {
         "code": ">>> assert float(expected_correct) == 0.5\n",
         "failure_message": "This should be an float between 0 and 1. Think about the probability when you flip a coin",
         "hidden": false,
         "locked": false
        }
       ],
       "scored": true,
       "setup": "",
       "teardown": "",
       "type": "doctest"
      }
     ]
    },
    "q1.4": {
     "name": "q1.4",
     "points": 0,
     "suites": [
      {
       "cases": [
        {
         "code": ">>> assert len(valid_ts) == 1 and valid_ts[0] == 2\n",
         "failure_message": "This should be an float between 0 and 1. Think about the probability when you flip a coin",
         "hidden": false,
         "locked": false
        }
       ],
       "scored": true,
       "setup": "",
       "teardown": "",
       "type": "doctest"
      }
     ]
    },
    "q1.5": {
     "name": "q1.5",
     "points": 0,
     "suites": [
      {
       "cases": [
        {
         "code": ">>> assert int(round(test_statistic(.5,.5) + test_statistic(.1,.4),1)) == 30\n",
         "failure_message": "You're taking in two decimals and returning the absolute difference between them as a percentage",
         "hidden": false,
         "locked": false
        }
       ],
       "scored": true,
       "setup": "",
       "teardown": "",
       "type": "doctest"
      }
     ]
    },
    "q1.6": {
     "name": "q1.6",
     "points": 0,
     "suites": [
      {
       "cases": [
        {
         "code": ">>> assert float(observed_test_statistic) == 6.0\n",
         "hidden": false,
         "locked": false
        }
       ],
       "scored": true,
       "setup": "",
       "teardown": "",
       "type": "doctest"
      }
     ]
    },
    "q1.7": {
     "name": "q1.7",
     "points": 0,
     "suites": [
      {
       "cases": [
        {
         "code": ">>> assert len(model_proportions) == 2\n>>> assert float(model_proportions[0]) == 0.5\n>>> assert 0.25<=simulation_proportion<=0.75\n>>> assert 0 <= one_test_statistic <= 20\n",
         "failure_message": "Either you did something wrong, or you got very very unlucky. Try running this again",
         "hidden": false,
         "locked": false
        }
       ],
       "scored": true,
       "setup": "",
       "teardown": "",
       "type": "doctest"
      }
     ]
    },
    "q1.8": {
     "name": "q1.8",
     "points": 0,
     "suites": [
      {
       "cases": [
        {
         "code": ">>> assert len(simulated_test_statistics) == 1000\n",
         "hidden": false,
         "locked": false
        }
       ],
       "scored": true,
       "setup": "",
       "teardown": "",
       "type": "doctest"
      }
     ]
    },
    "q1.9": {
     "name": "q1.9",
     "points": 0,
     "suites": [
      {
       "cases": [
        {
         "code": ">>> assert int(p_value) == 2\n",
         "failure_message": "Think about how a p_value is useful to us",
         "hidden": false,
         "locked": false
        }
       ],
       "scored": true,
       "setup": "",
       "teardown": "",
       "type": "doctest"
      }
     ]
    }
   }
  }
 },
 "nbformat": 4,
 "nbformat_minor": 5
}
