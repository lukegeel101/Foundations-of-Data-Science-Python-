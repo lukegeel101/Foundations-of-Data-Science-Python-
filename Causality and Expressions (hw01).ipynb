{
 "cells": [
  {
   "cell_type": "markdown",
   "id": "80e6172c",
   "metadata": {
    "tags": []
   },
   "source": [
    "# Homework 1: Causality and Expressions\n",
    "\n",
    "Please complete this notebook by filling in the cells provided. Before you begin, execute the following cell to load the provided tests."
   ]
  },
  {
   "cell_type": "code",
   "execution_count": 3,
   "id": "b8e32661",
   "metadata": {},
   "outputs": [],
   "source": [
    "import otter\n",
    "grader = otter.Notebook(\"hw01.ipynb\")"
   ]
  },
  {
   "cell_type": "markdown",
   "id": "96a7bb1e",
   "metadata": {},
   "source": [
    "## Reading:\n",
    "This assignment uses material from textbook chapters [1](https://umass-data-science.github.io/190fwebsite/textbook/01/what-is-data-science/), [2](https://umass-data-science.github.io/190fwebsite/textbook/02/causality-and-experiments/), and [3](https://umass-data-science.github.io/190fwebsite/textbook/03/programming-in-python/). You should read this material before starting the assignment, and refer back to it as needed.\n",
    "\n",
    "## Answering Questions:\n",
    "For all problems that you must write explanations and sentences for, you **must** provide your answer in the designated space. Moreover, throughout this homework and all future ones, **please be sure to not re-assign variables throughout the notebook!** For example, if you use the name `max_temperature` in your answer to one question, do not assign that name a different value later on. \n",
    "\n",
    "## Deadline:\n",
    "\n",
    "This assignment is due Tuesday, September 13. Late work will not be accepted as per the [policies](https://umass-data-science.github.io/190fwebsite/policies/) page.\n",
    "\n",
    "## Collaboration:\n",
    "Directly sharing answers is not okay, but discussing problems with the course staff or with other students is encouraged. Refer to the policies page to learn more about what is an acceptable level of homework collaboration.\n",
    "\n",
    "## Getting Help:\n",
    "You should start early so that you have time to get help if you're stuck. Drop by at [office hours](https://umass-data-science.github.io/190fwebsite/office_hours/) for help and ask questions during the lab sections."
   ]
  },
  {
   "cell_type": "markdown",
   "id": "6ff32e69",
   "metadata": {},
   "source": [
    "<!-- BEGIN QUESTION -->\n",
    "\n",
    "## 1. Scary Arithmetic\n"
   ]
  },
  {
   "cell_type": "markdown",
   "id": "48191fc5",
   "metadata": {
    "manual_problem_id": "adt_1"
   },
   "source": [
    "An ad for ADT Security Systems says,\n",
    "\n",
    "> \"When you go on vacation, burglars go to work [...] According to FBI statistics, over 25% of home burglaries occur between Memorial Day and Labor Day.\"\n",
    "\n",
    "**Question 1.1: 10 points** Do the data in the ad support the claim that burglars are more likely to go to work during the time between Memorial Day and Labor Day than at other times? Please explain your answer. Open and edit the cell below to provide your answer and explanation, then run the cell."
   ]
  },
  {
   "cell_type": "markdown",
   "id": "fccacb4c",
   "metadata": {},
   "source": [
    "The ad supports the claim that burglars are more likely to commit burglaries, not \"going to work\" as in go to work at their job. The ad supports the fact that burglars are more likely to this during the time between Memorial Day and Labor Day than at other times."
   ]
  },
  {
   "cell_type": "markdown",
   "id": "8c5db7b7",
   "metadata": {},
   "source": [
    "<!-- END QUESTION -->\n",
    "\n",
    "## 2. Characters in Little Women\n"
   ]
  },
  {
   "cell_type": "markdown",
   "id": "d93781d0",
   "metadata": {},
   "source": [
    "The textbook describes counting the number of times that the literary characters were named in each chapter of the classic book, [Little Women](https://umass-data-science.github.io/190fwebsite/textbook/01/3/little_women.txt). In computer science, the word \"character\" also refers to a letter, digit, space, or punctuation mark; any single element of a text. The following code generates a scatter plot in which each dot corresponds to a chapter of Little Women. The horizontal position of a dot measures the number of period characters \".\" in the chapter. The vertical position measures the total number of characters. Run the cell below to produce the plot, then answer the following questions."
   ]
  },
  {
   "cell_type": "code",
   "execution_count": 4,
   "id": "0de32bfe",
   "metadata": {},
   "outputs": [
    {
     "data": {
      "image/png": "[encoded data removed]",
      "text/plain": [
       "<Figure size 360x360 with 1 Axes>"
      ]
     },
     "metadata": {
      "needs_background": "light"
     },
     "output_type": "display_data"
    }
   ],
   "source": [
    "# This cell contains code that hasn't yet been covered in the course,\n",
    "# but you should be able to interpret the scatter plot it generates.\n",
    "\n",
    "from datascience import *\n",
    "from urllib.request import urlopen\n",
    "import numpy as np\n",
    "%matplotlib inline\n",
    "\n",
    "little_women_url = 'https://umass-data-science.github.io/190fwebsite/textbook/01/3/little_women.txt'\n",
    "chapters = urlopen(little_women_url).read().decode().split('CHAPTER ')[1:]\n",
    "text = Table().with_column('Chapters', chapters)\n",
    "Table().with_columns(\n",
    "    'Periods',    np.char.count(chapters, '.'),\n",
    "    'Characters', text.apply(len, 0)\n",
    "    ).scatter(0)"
   ]
  },
  {
   "cell_type": "markdown",
   "id": "7b03eb92",
   "metadata": {},
   "source": [
    "**Question 2.1: 10 points** About how many periods are in the chapter with the most characters? Assign either 1, 2, 3, 4, or 5 to the name `characters_q1` below.\n",
    "\n",
    "1. 250\n",
    "2. 390\n",
    "3. 440\n",
    "4. 32,000\n",
    "5. 40,000"
   ]
  },
  {
   "cell_type": "code",
   "execution_count": 5,
   "id": "aa869aea",
   "metadata": {
    "tags": []
   },
   "outputs": [],
   "source": [
    "characters_q1 = 2"
   ]
  },
  {
   "cell_type": "code",
   "execution_count": 6,
   "id": "67133787",
   "metadata": {
    "deletable": false,
    "editable": false
   },
   "outputs": [
    {
     "data": {
      "text/html": [
       "<p><strong><pre style='display: inline;'>q2.1</pre></strong> passed!</p>"
      ],
      "text/plain": [
       "q2.1 results: All test cases passed!"
      ]
     },
     "execution_count": 6,
     "metadata": {},
     "output_type": "execute_result"
    }
   ],
   "source": [
    "grader.check(\"q2.1\")"
   ]
  },
  {
   "cell_type": "markdown",
   "id": "4ada5f4a",
   "metadata": {
    "tags": []
   },
   "source": [
    "**Question 2.2: 10 points** Which of the following chapters has the most characters per period? Assign either 1, 2, or 3 to the name `characters_q2` below.\n",
    "1. The chapter with about 60 periods\n",
    "2. The chapter with about 350 periods\n",
    "3. The chapter with about 440 periods"
   ]
  },
  {
   "cell_type": "code",
   "execution_count": 7,
   "id": "fd315148",
   "metadata": {
    "tags": []
   },
   "outputs": [],
   "source": [
    "characters_q2 = 1"
   ]
  },
  {
   "cell_type": "code",
   "execution_count": 8,
   "id": "8fb3d1a0",
   "metadata": {
    "deletable": false,
    "editable": false
   },
   "outputs": [
    {
     "data": {
      "text/html": [
       "<p><strong><pre style='display: inline;'>q2.2</pre></strong> passed!</p>"
      ],
      "text/plain": [
       "q2.2 results: All test cases passed!"
      ]
     },
     "execution_count": 8,
     "metadata": {},
     "output_type": "execute_result"
    }
   ],
   "source": [
    "grader.check(\"q2.2\")"
   ]
  },
  {
   "cell_type": "markdown",
   "id": "ca706d64",
   "metadata": {},
   "source": [
    "Check that your answers are in the correct format. This test *does not* check that you answered correctly; only that you assigned a number successfully in each multiple-choice answer cell."
   ]
  },
  {
   "cell_type": "markdown",
   "id": "4eb9fcd0",
   "metadata": {},
   "source": [
    "To discover more interesting facts from this plot, read [Section 1.3.2](https://umass-data-science.github.io/190fwebsite/textbook/01/3/2/another-kind-of-character/) of the textbook."
   ]
  },
  {
   "cell_type": "markdown",
   "id": "7e82aca4",
   "metadata": {},
   "source": [
    "## 3. Names and Assignment Statements\n"
   ]
  },
  {
   "cell_type": "markdown",
   "id": "1738aedb",
   "metadata": {},
   "source": [
    "**Question 3.1: 10 points** When you run the following cell, Python produces a cryptic error message."
   ]
  },
  {
   "cell_type": "code",
   "execution_count": 9,
   "id": "c2510dd2",
   "metadata": {},
   "outputs": [
    {
     "ename": "SyntaxError",
     "evalue": "cannot assign to literal (2912417615.py, line 1)",
     "output_type": "error",
     "traceback": [
      "\u001b[0;36m  File \u001b[0;32m\"/tmp/ipykernel_26/2912417615.py\"\u001b[0;36m, line \u001b[0;32m1\u001b[0m\n\u001b[0;31m    4 = 2 + 2\u001b[0m\n\u001b[0m    ^\u001b[0m\n\u001b[0;31mSyntaxError\u001b[0m\u001b[0;31m:\u001b[0m cannot assign to literal\n"
     ]
    }
   ],
   "source": [
    "4 = 2 + 2"
   ]
  },
  {
   "cell_type": "markdown",
   "id": "6a3df2e6",
   "metadata": {},
   "source": [
    "Choose the best explanation of what's wrong with the code, and then assign 1, 2, 3, or 4 to `names_q1` below to indicate your answer.\n",
    "\n",
    "1. Python is smart and already knows `4 = 2 + 2`.\n",
    "\n",
    "2. `4` is a number, and it doesn't make sense to make a number be a name for something else. In Python, \"`x = 2 + 2`\" means \"assign `x` as the name for the value of `2 + 2`.\"\n",
    "\n",
    "3. It should be `2 + 2 = 4`.\n",
    "\n",
    "4. I don't get an error message. This is a trick question."
   ]
  },
  {
   "cell_type": "code",
   "execution_count": 22,
   "id": "620b5807",
   "metadata": {
    "tags": []
   },
   "outputs": [],
   "source": [
    "names_q1 = 2"
   ]
  },
  {
   "cell_type": "markdown",
   "id": "fe88a11b",
   "metadata": {},
   "source": [
    "**Question 3.2: 10 points** When you run the following cell, Python will produce another cryptic error message."
   ]
  },
  {
   "cell_type": "code",
   "execution_count": null,
   "id": "e5bb8ec1",
   "metadata": {},
   "outputs": [],
   "source": [
    "two = 3\n",
    "six = two plus two\n",
    "six"
   ]
  },
  {
   "cell_type": "markdown",
   "id": "6ff6c6dc",
   "metadata": {},
   "source": [
    "Choose the best explanation of what's wrong with the code and assign 1, 2, 3, or 4 to `names_q2` below to indicate your answer.\n",
    "\n",
    "1. The `plus` operation only applies to numbers, not the word \"two\".\n",
    "\n",
    "2. The name \"two\" cannot be assigned to the number 3.\n",
    "\n",
    "3. Two plus two is four, not six.\n",
    "\n",
    "4. The name `two` cannot be followed directly by another name."
   ]
  },
  {
   "cell_type": "code",
   "execution_count": 20,
   "id": "cf0cb2a0",
   "metadata": {
    "tags": []
   },
   "outputs": [],
   "source": [
    "names_q2 = 4"
   ]
  },
  {
   "cell_type": "code",
   "execution_count": 25,
   "id": "33c815a8",
   "metadata": {},
   "outputs": [
    {
     "data": {
      "text/html": [
       "<p><strong><pre style='display: inline;'>q3</pre></strong> passed!</p>"
      ],
      "text/plain": [
       "q3 results: All test cases passed!"
      ]
     },
     "execution_count": 25,
     "metadata": {},
     "output_type": "execute_result"
    }
   ],
   "source": [
    "grader.check(\"q3\") #I couldn't figure out why I was getting an error when trying to check q3 so I added this line to double check "
   ]
  },
  {
   "cell_type": "code",
   "execution_count": 21,
   "id": "a5704e90",
   "metadata": {
    "deletable": false,
    "editable": false
   },
   "outputs": [
    {
     "data": {
      "text/html": [
       "<p><strong style='color: red;'><pre style='display: inline;'>q3</pre> results:</strong></p><p><strong><pre style='display: inline;'>q3 - 1</pre> result:</strong></p><pre>    Trying:\n",
       "        assert isinstance(names_q1, int)\n",
       "    Expecting nothing\n",
       "    **********************************************************************\n",
       "    Line 1, in q3 0\n",
       "    Failed example:\n",
       "        assert isinstance(names_q1, int)\n",
       "    Exception raised:\n",
       "        Traceback (most recent call last):\n",
       "          File \"/opt/conda/lib/python3.9/doctest.py\", line 1336, in __run\n",
       "            exec(compile(example.source, filename, \"single\",\n",
       "          File \"<doctest q3 0[0]>\", line 1, in <module>\n",
       "            assert isinstance(names_q1, int)\n",
       "        NameError: name 'names_q1' is not defined\n",
       "    Trying:\n",
       "        assert isinstance(names_q2, int)\n",
       "    Expecting nothing\n",
       "    ok\n",
       "</pre><p><strong><pre style='display: inline;'>q3 - 1</pre> message:</strong> If this test failed your answers are not integers</p>"
      ],
      "text/plain": [
       "q3 results:\n",
       "    q3 - 1 result:\n",
       "        Trying:\n",
       "            assert isinstance(names_q1, int)\n",
       "        Expecting nothing\n",
       "        **********************************************************************\n",
       "        Line 1, in q3 0\n",
       "        Failed example:\n",
       "            assert isinstance(names_q1, int)\n",
       "        Exception raised:\n",
       "            Traceback (most recent call last):\n",
       "              File \"/opt/conda/lib/python3.9/doctest.py\", line 1336, in __run\n",
       "                exec(compile(example.source, filename, \"single\",\n",
       "              File \"<doctest q3 0[0]>\", line 1, in <module>\n",
       "                assert isinstance(names_q1, int)\n",
       "            NameError: name 'names_q1' is not defined\n",
       "        Trying:\n",
       "            assert isinstance(names_q2, int)\n",
       "        Expecting nothing\n",
       "        ok\n",
       "\n",
       "    q3 - 1 message: If this test failed your answers are not integers"
      ]
     },
     "execution_count": 21,
     "metadata": {},
     "output_type": "execute_result"
    }
   ],
   "source": [
    "grader.check(\"q3\")"
   ]
  },
  {
   "cell_type": "markdown",
   "id": "9c8a0f8c",
   "metadata": {},
   "source": [
    "Check that your answers are in the correct format. This test *does not* check that you answered correctly; only that you assigned a number successfully in each multiple-choice answer cell."
   ]
  },
  {
   "cell_type": "markdown",
   "id": "3d8aa476",
   "metadata": {
    "tags": []
   },
   "source": [
    "## 4. Job Opportunities & Education in Rural India\n"
   ]
  },
  {
   "cell_type": "markdown",
   "id": "8b296935",
   "metadata": {},
   "source": [
    "A [study](http://www.nber.org/papers/w16021.pdf) at UCLA investigated factors that might result in greater attention to the health and education of girls in rural India. One such factor is information about job opportunities for women. The idea is that if people know that educated women can get good jobs, they might take more care of the health and education of girls in their families, as an investment in the girls’ future potential as earners.\n",
    "\n",
    "The study focused on 160 villages outside the capital of India, all with little access to information about call centers and similar organizations that offer job opportunities to women. In 80 of the villages chosen at random, recruiters visited the village, described the opportunities, recruited women who had some English language proficiency and experience with computers, and provided ongoing support free of charge for three years. In the other 80 villages, no recruiters visited and no other intervention was made.\n",
    "\n",
    "At the end of the study period, the researchers recorded data about the school attendance and health of the children in the villages."
   ]
  },
  {
   "cell_type": "markdown",
   "id": "bd3c6b96",
   "metadata": {},
   "source": [
    "**Question 4.1: 10 points** Which statement best describes the *treatment* and *control* groups for this study? Assign either 1, 2, or 3 to the name `jobs_q1` below.\n",
    "\n",
    "1. The treatment group was the 80 villages visited by recruiters, and the control group was the other 80 villages with no intervention.\n",
    "\n",
    "2. The treatment group was the 160 villages selected, and the control group was the rest of the villages outside the capital of India.\n",
    "\n",
    "3. There is no clear notion of *treatment* and *control* group in this study."
   ]
  },
  {
   "cell_type": "code",
   "execution_count": 12,
   "id": "584b4bc6",
   "metadata": {
    "tags": []
   },
   "outputs": [],
   "source": [
    "jobs_q1 = 1"
   ]
  },
  {
   "cell_type": "markdown",
   "id": "ff7ed932",
   "metadata": {},
   "source": [
    "**Question 4.2: : 10 points** Was this an observational study or a randomized controlled experiment? Assign either 1, 2, or 3 to the name `jobs_q2` below.\n",
    "\n",
    "1. This was an observational study.\n",
    "\n",
    "2. This was a randomized controlled experiment.  \n",
    "\n",
    "3. This was a randomized observational study."
   ]
  },
  {
   "cell_type": "code",
   "execution_count": 13,
   "id": "6a6323d6",
   "metadata": {
    "tags": []
   },
   "outputs": [],
   "source": [
    "jobs_q2 = 2"
   ]
  },
  {
   "cell_type": "code",
   "execution_count": 14,
   "id": "89904391",
   "metadata": {
    "deletable": false,
    "editable": false
   },
   "outputs": [
    {
     "data": {
      "text/html": [
       "<p><strong><pre style='display: inline;'>q4</pre></strong> passed!</p>"
      ],
      "text/plain": [
       "q4 results: All test cases passed!"
      ]
     },
     "execution_count": 14,
     "metadata": {},
     "output_type": "execute_result"
    }
   ],
   "source": [
    "grader.check(\"q4\")"
   ]
  },
  {
   "cell_type": "markdown",
   "id": "36810ea4",
   "metadata": {},
   "source": [
    "The treatment was performed on girls. The boys were mentioned as contrasts to argue the causal effect of the treatment on girls."
   ]
  },
  {
   "cell_type": "markdown",
   "id": "5b277aef",
   "metadata": {},
   "source": [
    "Check that your answers are in the correct format. This test *does not* check that you answered correctly; only that you assigned a number successfully in each multiple-choice answer cell."
   ]
  },
  {
   "cell_type": "markdown",
   "id": "b663c008",
   "metadata": {
    "tags": []
   },
   "source": [
    "## 5. Differences between Universities\n"
   ]
  },
  {
   "cell_type": "markdown",
   "id": "8c62aee4",
   "metadata": {},
   "source": [
    "**Question 5.1: 5 points** Suppose you'd like to *quantify* how *dissimilar* two universities are, using three quantitative characteristics.  The US Department of Education data on [UMass](https://collegescorecard.ed.gov/school/?166629-University-of-Massachusetts-Amherst) and [UConn](https://collegescorecard.ed.gov/school/?129020-University-of-Connecticut) describes the following three variables (among many others):\n",
    "\n",
    "| Trait                                | UMass  | Uconn  |\n",
    "|--------------------------------------|--------|--------|\n",
    "| Average annual cost to attend ($)    | 18,869 | 20,023 |\n",
    "| Graduation rate (percentage)         | 77     | 82     |\n",
    "| Socioeconomic Diversity (percentage) | 24     | 21     |\n",
    "\n",
    "You decide to define the dissimilarity between two universities as the **maximum of the absolute values of the 3 differences in these values of these variables**.\n",
    "\n",
    "Using this method, compute the dissimilarity between UMass and UConn.  Name the result `dissimilarity`.  Use a single expression (a single line of code) to compute the answer.  Let Python perform all the arithmetic (like subtracting 82 from 77) rather than simplifying the expression yourself. The built-in `abs` function takes absolute values."
   ]
  },
  {
   "cell_type": "code",
   "execution_count": 15,
   "id": "573f35e1",
   "metadata": {
    "tags": []
   },
   "outputs": [
    {
     "data": {
      "text/plain": [
       "1154"
      ]
     },
     "execution_count": 15,
     "metadata": {},
     "output_type": "execute_result"
    }
   ],
   "source": [
    "dissimilarity = max(abs(20023-18869),abs(82-77),abs(24-21))\n",
    "dissimilarity"
   ]
  },
  {
   "cell_type": "code",
   "execution_count": 16,
   "id": "09f1aa60",
   "metadata": {
    "deletable": false,
    "editable": false
   },
   "outputs": [
    {
     "data": {
      "text/html": [
       "<p><strong><pre style='display: inline;'>q5</pre></strong> passed!</p>"
      ],
      "text/plain": [
       "q5 results: All test cases passed!"
      ]
     },
     "execution_count": 16,
     "metadata": {},
     "output_type": "execute_result"
    }
   ],
   "source": [
    "grader.check(\"q5\")"
   ]
  },
  {
   "cell_type": "markdown",
   "id": "7949cf56",
   "metadata": {},
   "source": [
    "## 6. Nearsightedness Study\n"
   ]
  },
  {
   "cell_type": "markdown",
   "id": "5fb23a67",
   "metadata": {},
   "source": [
    "<!-- BEGIN QUESTION -->\n",
    "\n",
    "Myopia, or nearsightedness, results from a number of genetic and environmental factors. In 1999, Quinn et al studied the relation between myopia and ambient lighting at night (for example, from nightlights or room lights) during childhood."
   ]
  },
  {
   "cell_type": "markdown",
   "id": "3de95dc6",
   "metadata": {
    "manual_problem_id": "nearsightedness_1"
   },
   "source": [
    "**Question 6.1: 5 points** The data were gathered by the following procedure, reported in the study. “Between January and June 1998, parents of children aged 2-16 years [...] that were seen as outpatients in a university pediatric ophthalmology clinic completed a questionnaire on the child’s light exposure both at present and before the age of 2 years.” Was this study observational, or was it a controlled experiment? Open and edit the cell below to provide your explanation, then run the cell."
   ]
  },
  {
   "cell_type": "markdown",
   "id": "00125f23",
   "metadata": {},
   "source": [
    "This study is observational because it didn't influence the response of the participants."
   ]
  },
  {
   "cell_type": "markdown",
   "id": "2a838147",
   "metadata": {
    "manual_problem_id": "nearsightedness_2"
   },
   "source": [
    "<!-- END QUESTION -->\n",
    "\n",
    "<!-- BEGIN QUESTION -->\n",
    "\n",
    "**Question 6.2: 5 points** The study found that of the children who slept with a room light on before the age of 2, 55% were myopic. Of the children who slept with a night light on before the age of 2, 34% were myopic. Of the children who slept in the dark before the age of 2, 10% were myopic. The study concluded that, \"The prevalence of myopia [...] during childhood was strongly associated with ambient light exposure during sleep at night in the first two years after birth.\"\n",
    "\n",
    "Do the data support this statement? You may interpret “strongly” in any reasonable qualitative way. Open and edit the cell below to provide your answer and explanation, then run the cell."
   ]
  },
  {
   "cell_type": "markdown",
   "id": "f56b7365",
   "metadata": {},
   "source": [
    "Yes, the data from the study supports the argument. The children who sleep with the most light were the highest percentage of myopic and the children who slept with the least amount of light had the lowest percent of myopic. This represents a direct correlation between the amount of light a child sleeps with and how likely it is for them to become myopic."
   ]
  },
  {
   "cell_type": "markdown",
   "id": "c777297a",
   "metadata": {
    "manual_problem_id": "nearsightedness_3"
   },
   "source": [
    "<!-- END QUESTION -->\n",
    "\n",
    "<!-- BEGIN QUESTION -->\n",
    "\n",
    "**Question 6.3: 5 points** On May 13, 1999, CNN reported the results of this study under the headline, “Night light may lead to nearsightedness.” Does the conclusion of the study claim that night light causes nearsightedness? Open and edit the cell below to provide your answer and explanation, then run the cell."
   ]
  },
  {
   "cell_type": "markdown",
   "id": "5fe0c4e2",
   "metadata": {},
   "source": [
    "No the conclusion of the study doesn't claim that night light causes nearsightedness, it only stats that their is a significant correlation. Correlation does not imply causation so the cause of the nearsightedness could possibly be something other than a night light. "
   ]
  },
  {
   "cell_type": "markdown",
   "id": "7d7193d4",
   "metadata": {
    "manual_problem_id": "nearsightedness_4"
   },
   "source": [
    "<!-- END QUESTION -->\n",
    "\n",
    "<!-- BEGIN QUESTION -->\n",
    "\n",
    "**Question 6.4: 5 points** The final paragraph of the CNN report said that “several eye specialists” had pointed out that the study should have accounted for heredity.\n",
    "\n",
    "Myopia is passed down from parents to children. It's reasonable to suppose that myopic parents are more likely to leave lights on in their children's rooms than other parents. In what way could this have affected the data? Open and edit the cell below to provide your answer and explanation, then run the cell."
   ]
  },
  {
   "cell_type": "markdown",
   "id": "3bdb4159",
   "metadata": {},
   "source": [
    "Yes, it is reasonable to suppose that myopic parents are more likely to leave lights on in their childrens rooms than other parents. This actually wouldn't affect the quality of the data from the study, it would just mean that myopic could be less about genetics and more about the practices of your parents. If your parents are myopic but they turn your lights off at night you might be less likely to become myopic than someone whos parents aren't myopic but leave their lights on at night."
   ]
  },
  {
   "cell_type": "markdown",
   "id": "5eaf1668",
   "metadata": {},
   "source": [
    "<!-- END QUESTION -->\n",
    "\n",
    "## 7. Studying the Survivors\n"
   ]
  },
  {
   "cell_type": "markdown",
   "id": "de20cdbc",
   "metadata": {},
   "source": [
    "**Question 7.1: 5 points**The Reverend Henry Whitehead was skeptical of John Snow’s conclusion about the Broad Street pump. After the Broad Street cholera epidemic ended, Whitehead set about trying to prove Snow wrong.  (The history of the event is detailed [here](http://www.ncbi.nlm.nih.gov/pmc/articles/PMC1034367/pdf/medhist00183-0026.pdf).)\n",
    "\n",
    "He realized that Snow had focused his analysis almost entirely on those who had died. Whitehead, therefore, investigated the drinking habits of people in the Broad Street area who had not died in the outbreak.\n",
    "\n",
    "What is the main reason it was important to study this group?\n",
    "\n",
    "1) If Whitehead had found that many people had drunk water from the Broad Street pump and not caught cholera, that would have been evidence against Snow's hypothesis.\n",
    "\n",
    "2) Survivors could provide additional information about what else could have caused the cholera, potentially unearthing another cause.\n",
    "\n",
    "3) Through considering the survivors, Whitehead could have identified a cure for cholera."
   ]
  },
  {
   "cell_type": "code",
   "execution_count": 17,
   "id": "48179de9",
   "metadata": {
    "tags": []
   },
   "outputs": [],
   "source": [
    "# Assign survivor_answer to 1, 2, or 3\n",
    "survivor_answer = 1"
   ]
  },
  {
   "cell_type": "markdown",
   "id": "a1cc9922",
   "metadata": {},
   "source": [
    "**Note:** Whitehead ended up finding further proof that the Broad Street pump played the central role in spreading the disease to the people who lived near it. Eventually, he became one of Snow’s greatest defenders."
   ]
  },
  {
   "cell_type": "code",
   "execution_count": 18,
   "id": "f8836f75",
   "metadata": {
    "deletable": false,
    "editable": false
   },
   "outputs": [
    {
     "data": {
      "text/html": [
       "<p><strong><pre style='display: inline;'>q7</pre></strong> passed!</p>"
      ],
      "text/plain": [
       "q7 results: All test cases passed!"
      ]
     },
     "execution_count": 18,
     "metadata": {},
     "output_type": "execute_result"
    }
   ],
   "source": [
    "grader.check(\"q7\")"
   ]
  },
  {
   "cell_type": "markdown",
   "id": "1eacf9fa",
   "metadata": {},
   "source": [
    "## 8. Submission\n"
   ]
  },
  {
   "cell_type": "markdown",
   "id": "d6238418",
   "metadata": {},
   "source": [
    "You've finished homework 1!  Be sure to run the notebook tests and verify that they all pass, **your homework will need to pass more tests in gradescope**. Choose **Save and Checkpoint** from the **File** menu, then upload the .ipynb to gradescope to submit your work.  You may submit to gradescope as many times as you want until the deadline. Make sure to pay attention to what tests you are passing and failing after submiting!!"
   ]
  },
  {
   "cell_type": "markdown",
   "id": "3e59a6c4",
   "metadata": {
    "deletable": false,
    "editable": false
   },
   "source": [
    "---\n",
    "\n",
    "To double-check your work, the cell below will rerun all of the autograder tests."
   ]
  },
  {
   "cell_type": "code",
   "execution_count": 19,
   "id": "20936362",
   "metadata": {
    "deletable": false,
    "editable": false
   },
   "outputs": [
    {
     "data": {
      "text/plain": [
       "q2.1 results: All test cases passed!\n",
       "\n",
       "q2.2 results: All test cases passed!\n",
       "\n",
       "q3 results:\n",
       "    q3 - 1 result:\n",
       "        Trying:\n",
       "            assert isinstance(names_q1, int)\n",
       "        Expecting nothing\n",
       "        **********************************************************************\n",
       "        Line 1, in q3 0\n",
       "        Failed example:\n",
       "            assert isinstance(names_q1, int)\n",
       "        Exception raised:\n",
       "            Traceback (most recent call last):\n",
       "              File \"/opt/conda/lib/python3.9/doctest.py\", line 1336, in __run\n",
       "                exec(compile(example.source, filename, \"single\",\n",
       "              File \"<doctest q3 0[0]>\", line 1, in <module>\n",
       "                assert isinstance(names_q1, int)\n",
       "            NameError: name 'names_q1' is not defined\n",
       "        Trying:\n",
       "            assert isinstance(names_q2, int)\n",
       "        Expecting nothing\n",
       "        ok\n",
       "\n",
       "    q3 - 1 message: If this test failed your answers are not integers\n",
       "\n",
       "q4 results: All test cases passed!\n",
       "\n",
       "q5 results: All test cases passed!\n",
       "\n",
       "q7 results: All test cases passed!"
      ]
     },
     "execution_count": 19,
     "metadata": {},
     "output_type": "execute_result"
    }
   ],
   "source": [
    "grader.check_all()"
   ]
  },
  {
   "cell_type": "code",
   "execution_count": null,
   "id": "5f84cd9a",
   "metadata": {},
   "outputs": [],
   "source": []
  }
 ],
 "metadata": {
  "kernelspec": {
   "display_name": "Python 3 (ipykernel)",
   "language": "python",
   "name": "python3"
  },
  "language_info": {
   "codemirror_mode": {
    "name": "ipython",
    "version": 3
   },
   "file_extension": ".py",
   "mimetype": "text/x-python",
   "name": "python",
   "nbconvert_exporter": "python",
   "pygments_lexer": "ipython3",
   "version": "3.9.7"
  },
  "otter": {
   "tests": {
    "q2.1": {
     "name": "q2.1",
     "points": 10,
     "suites": [
      {
       "cases": [
        {
         "code": ">>> assert isinstance(characters_q1, int)\n",
         "failure_message": "If this test failed your answer is not an integer",
         "hidden": false,
         "locked": false
        }
       ],
       "scored": true,
       "setup": "",
       "teardown": "",
       "type": "doctest"
      }
     ]
    },
    "q2.2": {
     "name": "q2.2",
     "points": 10,
     "suites": [
      {
       "cases": [
        {
         "code": ">>> assert isinstance(characters_q2, int)\n",
         "failure_message": "If this test failed your answer is not an integer",
         "hidden": false,
         "locked": false
        }
       ],
       "scored": true,
       "setup": "",
       "teardown": "",
       "type": "doctest"
      }
     ]
    },
    "q3": {
     "name": "q3",
     "points": 20,
     "suites": [
      {
       "cases": [
        {
         "code": ">>> assert isinstance(names_q1, int)\n>>> assert isinstance(names_q2, int)\n",
         "failure_message": "If this test failed your answers are not integers",
         "hidden": false,
         "locked": false,
         "points": 10
        }
       ],
       "scored": true,
       "setup": "",
       "teardown": "",
       "type": "doctest"
      }
     ]
    },
    "q4": {
     "name": "q4",
     "points": 20,
     "suites": [
      {
       "cases": [
        {
         "code": ">>> assert isinstance(jobs_q1, int)\n>>> assert isinstance(jobs_q2, int)\n",
         "failure_message": "If this test failed your answers are not integers",
         "hidden": false,
         "locked": false,
         "points": 10
        }
       ],
       "scored": true,
       "setup": "",
       "teardown": "",
       "type": "doctest"
      }
     ]
    },
    "q5": {
     "name": "q5",
     "points": 5,
     "suites": [
      {
       "cases": [
        {
         "code": ">>> assert isinstance(dissimilarity, (int, float))\n",
         "failure_message": "If this test failed your answers is not a number",
         "hidden": false,
         "locked": false
        }
       ],
       "scored": true,
       "setup": "",
       "teardown": "",
       "type": "doctest"
      }
     ]
    },
    "q7": {
     "name": "q7",
     "points": 5,
     "suites": [
      {
       "cases": [
        {
         "code": ">>> assert isinstance(survivor_answer, int)\n",
         "failure_message": "If this test failed your answers is not an integer",
         "hidden": false,
         "locked": false
        }
       ],
       "scored": true,
       "setup": "",
       "teardown": "",
       "type": "doctest"
      }
     ]
    }
   }
  }
 },
 "nbformat": 4,
 "nbformat_minor": 5
}
